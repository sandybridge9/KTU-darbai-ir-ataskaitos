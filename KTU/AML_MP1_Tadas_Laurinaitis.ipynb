{
  "nbformat": 4,
  "nbformat_minor": 0,
  "metadata": {
    "kernelspec": {
      "display_name": "Python 3",
      "language": "python",
      "name": "python3"
    },
    "language_info": {
      "codemirror_mode": {
        "name": "ipython",
        "version": 3
      },
      "file_extension": ".py",
      "mimetype": "text/x-python",
      "name": "python",
      "nbconvert_exporter": "python",
      "pygments_lexer": "ipython3",
      "version": "3.6.9"
    },
    "colab": {
      "name": "AML_MP1_Tadas_Laurinaitis.ipynb",
      "provenance": [],
      "collapsed_sections": [
        "wO6q-UBk48ig"
      ]
    }
  },
  "cells": [
    {
      "cell_type": "markdown",
      "metadata": {
        "id": "93nOHHhR48if"
      },
      "source": [
        "# Viral Data Analysis\n",
        "\n",
        "Date: 2020.11.02\n",
        "\n",
        "Author: © 2020 Tadas Laurinaitis \n",
        "\n",
        "This notebook is part of an individual project for [KTU IF](https://fi.ktu.edu/)  [P176M010 Advanced Machine Learning](https://admissions.ktu.edu/programme/m-software-engineering/#P176M010) class led by [M. Lukoševičius](http://mantas.info/).\n",
        "\n",
        "Here we analyze open COVID-19 data from https://ourworldindata.org/ to answer the following questions:\n",
        "\n",
        "1. What countries have most total tests per thousand from the top 50 countries with the highest GDP per capita?\n",
        "1. Is there a correlation between total deaths per million and total tests per thousand in the 5 European and 5 Asian countries with the highest GDP per capita?\n",
        "\n",
        "This work is licensed under a <a rel=\"license\" href=\"http://creativecommons.org/licenses/by/4.0/\">Creative Commons Attribution 4.0 International license</a>. <a rel=\"license\" href=\"http://creativecommons.org/licenses/by/4.0/\"><img alt=\"Creative Commons licencija\" style=\"border-width:0\" src=\"https://i.creativecommons.org/l/by/4.0/80x15.png\" /></a> "
      ]
    },
    {
      "cell_type": "markdown",
      "metadata": {
        "id": "wO6q-UBk48ig"
      },
      "source": [
        "## Load the data"
      ]
    },
    {
      "cell_type": "code",
      "metadata": {
        "id": "0B0egHiN48ih"
      },
      "source": [
        "import numpy as np\n",
        "import numpy.ma as ma\n",
        "import pandas as pd\n",
        "import matplotlib.pyplot as plt"
      ],
      "execution_count": 90,
      "outputs": []
    },
    {
      "cell_type": "markdown",
      "metadata": {
        "id": "jcrAe5tZ48il"
      },
      "source": [
        "Download the data to cache locally. Do this once (a day), and comment out, not to DoS the server. (adopted from https://stackoverflow.com/a/35997720)."
      ]
    },
    {
      "cell_type": "code",
      "metadata": {
        "id": "K9Okqffz48il",
        "outputId": "23d23c11-bfe1-459a-e1f1-2e7f3332b1a6",
        "colab": {
          "base_uri": "https://localhost:8080/"
        }
      },
      "source": [
        "import requests\n",
        "fname = 'owid-covid-data.csv'\n",
        "url = 'https://covid.ourworldindata.org/data/' + fname\n",
        "r = requests.get(url)\n",
        "open(fname, 'wb').write(r.content)"
      ],
      "execution_count": 91,
      "outputs": [
        {
          "output_type": "execute_result",
          "data": {
            "text/plain": [
              "12501481"
            ]
          },
          "metadata": {
            "tags": []
          },
          "execution_count": 91
        }
      ]
    },
    {
      "cell_type": "markdown",
      "metadata": {
        "id": "BQkFyCGX48ip"
      },
      "source": [
        "Load the file to Pandas."
      ]
    },
    {
      "cell_type": "code",
      "metadata": {
        "id": "leqX9A9_48iq"
      },
      "source": [
        "#url = \"https://covid.ourworldindata.org/data/owid-covid-data.csv\"\n",
        "# download the file locally when developing, not to DoS the server:\n",
        "url = \"owid-covid-data.csv\" \n",
        "df = pd.read_csv(url, parse_dates=[3])"
      ],
      "execution_count": 92,
      "outputs": []
    },
    {
      "cell_type": "markdown",
      "metadata": {
        "id": "1-jNAm_548it"
      },
      "source": [
        "Check the columns available."
      ]
    },
    {
      "cell_type": "code",
      "metadata": {
        "scrolled": true,
        "id": "WNbAPhLD48iu",
        "outputId": "446e8417-a078-40d8-ca4e-0cd73ac29e42",
        "colab": {
          "base_uri": "https://localhost:8080/"
        }
      },
      "source": [
        "df.columns"
      ],
      "execution_count": 93,
      "outputs": [
        {
          "output_type": "execute_result",
          "data": {
            "text/plain": [
              "Index(['iso_code', 'continent', 'location', 'date', 'total_cases', 'new_cases', 'new_cases_smoothed', 'total_deaths', 'new_deaths', 'new_deaths_smoothed', 'total_cases_per_million', 'new_cases_per_million', 'new_cases_smoothed_per_million', 'total_deaths_per_million', 'new_deaths_per_million', 'new_deaths_smoothed_per_million', 'icu_patients', 'icu_patients_per_million', 'hosp_patients', 'hosp_patients_per_million', 'weekly_icu_admissions', 'weekly_icu_admissions_per_million', 'weekly_hosp_admissions', 'weekly_hosp_admissions_per_million', 'total_tests', 'new_tests', 'total_tests_per_thousand', 'new_tests_per_thousand', 'new_tests_smoothed', 'new_tests_smoothed_per_thousand', 'tests_per_case', 'positive_rate', 'tests_units', 'stringency_index', 'population', 'population_density', 'median_age', 'aged_65_older', 'aged_70_older', 'gdp_per_capita', 'extreme_poverty', 'cardiovasc_death_rate', 'diabetes_prevalence', 'female_smokers', 'male_smokers', 'handwashing_facilities', 'hospital_beds_per_thousand', 'life_expectancy', 'human_development_index'], dtype='object')"
            ]
          },
          "metadata": {
            "tags": []
          },
          "execution_count": 93
        }
      ]
    },
    {
      "cell_type": "markdown",
      "metadata": {
        "id": "j2CzV-7a48ix"
      },
      "source": [
        "The columns are explained [here](https://github.com/owid/covid-19-data/blob/master/public/data/owid-covid-codebook.csv)."
      ]
    },
    {
      "cell_type": "markdown",
      "metadata": {
        "id": "0dIyQU_kSqhG"
      },
      "source": [
        "## 1. What countries have most total tests per thousand from the top 50 countries with the highest GDP per capita?"
      ]
    },
    {
      "cell_type": "markdown",
      "metadata": {
        "id": "PDd0IGvIUoBY"
      },
      "source": [
        "To find countries with most total tests per thousand from the top 50 countries with the highest GPD per capita, we first must copy the data from the original dataframe, choose a particular date and columns needed. We then sort the data by gdp per capita and select top 50 results. We then sort the data by total tests per thousand and select top 10 results."
      ]
    },
    {
      "cell_type": "code",
      "metadata": {
        "id": "cFcoGV5RUoLT",
        "outputId": "c39acb6e-93de-4d6c-b500-fe77f0a2d3ce",
        "colab": {
          "base_uri": "https://localhost:8080/",
          "height": 347
        }
      },
      "source": [
        "allData = df.copy()\n",
        "relevantData = allData[allData['date'] == \"2020-10-25\"][['location', 'date', 'gdp_per_capita', 'total_tests_per_thousand']]\n",
        "relevantData = relevantData.dropna()\n",
        "relevantCountries = relevantData.sort_values(by=[\"gdp_per_capita\"], ascending = False).head(50)\n",
        "relevantCountries = relevantCountries.sort_values(by=[\"total_tests_per_thousand\"], ascending = False).head(10)\n",
        "relevantCountries"
      ],
      "execution_count": 94,
      "outputs": [
        {
          "output_type": "execute_result",
          "data": {
            "text/html": [
              "<div>\n",
              "<style scoped>\n",
              "    .dataframe tbody tr th:only-of-type {\n",
              "        vertical-align: middle;\n",
              "    }\n",
              "\n",
              "    .dataframe tbody tr th {\n",
              "        vertical-align: top;\n",
              "    }\n",
              "\n",
              "    .dataframe thead th {\n",
              "        text-align: right;\n",
              "    }\n",
              "</style>\n",
              "<table border=\"1\" class=\"dataframe\">\n",
              "  <thead>\n",
              "    <tr style=\"text-align: right;\">\n",
              "      <th></th>\n",
              "      <th>location</th>\n",
              "      <th>date</th>\n",
              "      <th>gdp_per_capita</th>\n",
              "      <th>total_tests_per_thousand</th>\n",
              "    </tr>\n",
              "  </thead>\n",
              "  <tbody>\n",
              "    <tr>\n",
              "      <th>30657</th>\n",
              "      <td>Luxembourg</td>\n",
              "      <td>2020-10-25</td>\n",
              "      <td>94277.965</td>\n",
              "      <td>1612.159</td>\n",
              "    </tr>\n",
              "    <tr>\n",
              "      <th>1763</th>\n",
              "      <td>United Arab Emirates</td>\n",
              "      <td>2020-10-25</td>\n",
              "      <td>67293.483</td>\n",
              "      <td>1260.382</td>\n",
              "    </tr>\n",
              "    <tr>\n",
              "      <th>5460</th>\n",
              "      <td>Bahrain</td>\n",
              "      <td>2020-10-25</td>\n",
              "      <td>43290.705</td>\n",
              "      <td>986.638</td>\n",
              "    </tr>\n",
              "    <tr>\n",
              "      <th>13688</th>\n",
              "      <td>Denmark</td>\n",
              "      <td>2020-10-25</td>\n",
              "      <td>46682.515</td>\n",
              "      <td>848.784</td>\n",
              "    </tr>\n",
              "    <tr>\n",
              "      <th>24912</th>\n",
              "      <td>Israel</td>\n",
              "      <td>2020-10-25</td>\n",
              "      <td>33132.320</td>\n",
              "      <td>538.812</td>\n",
              "    </tr>\n",
              "    <tr>\n",
              "      <th>12310</th>\n",
              "      <td>Cyprus</td>\n",
              "      <td>2020-10-25</td>\n",
              "      <td>32415.132</td>\n",
              "      <td>532.896</td>\n",
              "    </tr>\n",
              "    <tr>\n",
              "      <th>24604</th>\n",
              "      <td>Iceland</td>\n",
              "      <td>2020-10-25</td>\n",
              "      <td>46482.958</td>\n",
              "      <td>511.886</td>\n",
              "    </tr>\n",
              "    <tr>\n",
              "      <th>50658</th>\n",
              "      <td>United States</td>\n",
              "      <td>2020-10-25</td>\n",
              "      <td>54225.446</td>\n",
              "      <td>436.265</td>\n",
              "    </tr>\n",
              "    <tr>\n",
              "      <th>18078</th>\n",
              "      <td>United Kingdom</td>\n",
              "      <td>2020-10-25</td>\n",
              "      <td>39753.244</td>\n",
              "      <td>406.550</td>\n",
              "    </tr>\n",
              "    <tr>\n",
              "      <th>3990</th>\n",
              "      <td>Belgium</td>\n",
              "      <td>2020-10-25</td>\n",
              "      <td>42658.576</td>\n",
              "      <td>399.008</td>\n",
              "    </tr>\n",
              "  </tbody>\n",
              "</table>\n",
              "</div>"
            ],
            "text/plain": [
              "                   location       date  gdp_per_capita  total_tests_per_thousand\n",
              "30657            Luxembourg 2020-10-25       94277.965                  1612.159\n",
              "1763   United Arab Emirates 2020-10-25       67293.483                  1260.382\n",
              "5460                Bahrain 2020-10-25       43290.705                   986.638\n",
              "13688               Denmark 2020-10-25       46682.515                   848.784\n",
              "24912                Israel 2020-10-25       33132.320                   538.812\n",
              "12310                Cyprus 2020-10-25       32415.132                   532.896\n",
              "24604               Iceland 2020-10-25       46482.958                   511.886\n",
              "50658         United States 2020-10-25       54225.446                   436.265\n",
              "18078        United Kingdom 2020-10-25       39753.244                   406.550\n",
              "3990                Belgium 2020-10-25       42658.576                   399.008"
            ]
          },
          "metadata": {
            "tags": []
          },
          "execution_count": 94
        }
      ]
    },
    {
      "cell_type": "markdown",
      "metadata": {
        "id": "7YB6A6RNgX9f"
      },
      "source": [
        "As seen in the results, Luxembourg is the leading country both in GDP per capita and total tests per thousand. United Arab Emirates are also high on the GDP per capita list and while their total tests per thousand count is slightly lower that that of Luxembourg's it is still very high compare to the other countries on the list. Countries ranked 5-10 on the list have total test counts several times lower than those of Luxembourg's and UAE's."
      ]
    },
    {
      "cell_type": "markdown",
      "metadata": {
        "id": "iyvRgnPa48iy"
      },
      "source": [
        "<a id='Q1'></a>\n",
        "## 2. Is there a correlation between total deaths per million and total tests per thousand in the 5 European and 5 Asian countries with the highest GDP per capita?\n"
      ]
    },
    {
      "cell_type": "markdown",
      "metadata": {
        "id": "1lQi6nrCzduQ"
      },
      "source": [
        "To compare total deaths per million and total tests per thousand of 5 European and 5 Asian countries with the highest gdp per capita, we firstly copy the main dataframe, then select a particular date, where this data exists, f.e. \"2020-10-25\", then filter the copied dataframe and select only data where continent is Europe or Asia. Then we select top 5 countries from both Europe and Asia by sorting the dataframe by \"gdp_per_capita\" and selecting the top 5 results."
      ]
    },
    {
      "cell_type": "code",
      "metadata": {
        "id": "WIF9hPsn9qA_",
        "outputId": "291f5d17-afa8-4cf8-cb6b-804f27183488",
        "colab": {
          "base_uri": "https://localhost:8080/"
        }
      },
      "source": [
        "allData = df.copy()\n",
        "relevantData = allData[allData['date'] == \"2020-10-25\"][['continent', 'location', 'date', 'gdp_per_capita', 'total_deaths_per_million', 'total_tests_per_thousand']]\n",
        "relevantData = relevantData.dropna()\n",
        "\n",
        "europenData = relevantData[relevantData['continent'] == \"Europe\"]\n",
        "relevantEuropeanCountries = europenData.sort_values(by=[\"gdp_per_capita\"], ascending = False).head(5)\n",
        "asianData = relevantData[relevantData['continent'] == \"Asia\"]\n",
        "relevantAsianCountries = asianData.sort_values(by=[\"gdp_per_capita\"], ascending = False).head(5)\n",
        "\n",
        "frames = [relevantEuropeanCountries, relevantAsianCountries]\n",
        "result = pd.concat(frames)\n",
        "result = result.sort_values(by=[\"gdp_per_capita\"], ascending = False)\n",
        "pd.set_option('display.max_columns', None)\n",
        "pd.set_option('display.max_rows', None)\n",
        "pd.set_option('display.width', 10000)\n",
        "pd.set_option('display.max_colwidth', None)\n",
        "print(result)"
      ],
      "execution_count": 95,
      "outputs": [
        {
          "output_type": "stream",
          "text": [
            "      continent              location       date  gdp_per_capita  total_deaths_per_million  total_tests_per_thousand\n",
            "30657    Europe            Luxembourg 2020-10-25       94277.965                   230.041                  1612.159\n",
            "23680    Europe               Ireland 2020-10-25       67335.293                   381.142                   314.817\n",
            "1763       Asia  United Arab Emirates 2020-10-25       67293.483                    48.026                  1260.382\n",
            "28084      Asia                Kuwait 2020-10-25       65530.537                   174.216                   205.184\n",
            "37491    Europe                Norway 2020-10-25       64800.057                    51.464                   291.937\n",
            "8999     Europe           Switzerland 2020-10-25       57410.166                   216.763                   209.423\n",
            "42573      Asia          Saudi Arabia 2020-10-25       49045.411                   151.692                   223.264\n",
            "13688    Europe               Denmark 2020-10-25       46682.515                   120.852                   848.784\n",
            "5460       Asia               Bahrain 2020-10-25       43290.705                   183.359                   986.638\n",
            "26232      Asia                 Japan 2020-10-25       39002.223                    13.528                    23.751\n"
          ],
          "name": "stdout"
        }
      ]
    },
    {
      "cell_type": "markdown",
      "metadata": {
        "id": "RFimGQPI0m3M"
      },
      "source": [
        "As we can see from the results, high gdp per capita doesn't automatically mean that there is going to be a high number of tests and a low number of deaths per million. Luxembourg while having the highest gdp per capita and being the highest testing country on this list, still suffered a high number of casualties. On the other hand, Japan having lowest gdp per capita on this list suffered lowest casualties and didn't do as many tests as the other countries from this list. "
      ]
    },
    {
      "cell_type": "code",
      "metadata": {
        "id": "GfCW3JjSP271",
        "outputId": "e4c4004d-aad1-471a-a46f-b11c6295f383",
        "colab": {
          "base_uri": "https://localhost:8080/",
          "height": 296
        }
      },
      "source": [
        "totalDeathsColumn = result.total_deaths_per_million\n",
        "totalTestsColumn = result.total_tests_per_thousand\n",
        "plt.plot(totalDeathsColumn, totalTestsColumn, 'r.')\n",
        "plt.xlabel('Total deaths per million')\n",
        "plt.ylabel('Total tests per thousand')\n",
        "\n",
        "p = ma.polyfit(totalDeathsColumn, totalTestsColumn, 1)\n",
        "plt.plot(p, p, '-')"
      ],
      "execution_count": 96,
      "outputs": [
        {
          "output_type": "execute_result",
          "data": {
            "text/plain": [
              "[<matplotlib.lines.Line2D at 0x7fe613ad7b70>]"
            ]
          },
          "metadata": {
            "tags": []
          },
          "execution_count": 96
        },
        {
          "output_type": "display_data",
          "data": {
            "image/png": "[encoded data removed]",
            "text/plain": [
              "<Figure size 432x288 with 1 Axes>"
            ]
          },
          "metadata": {
            "tags": [],
            "needs_background": "light"
          }
        }
      ]
    },
    {
      "cell_type": "code",
      "metadata": {
        "id": "AdypkuzObczU",
        "outputId": "7f94f457-2f52-4457-f4c3-d009db78f1ef",
        "colab": {
          "base_uri": "https://localhost:8080/"
        }
      },
      "source": [
        "ma.corrcoef(totalDeathsColumn, totalTestsColumn)[0,1]"
      ],
      "execution_count": 97,
      "outputs": [
        {
          "output_type": "execute_result",
          "data": {
            "text/plain": [
              "0.050010375262076086"
            ]
          },
          "metadata": {
            "tags": []
          },
          "execution_count": 97
        }
      ]
    },
    {
      "cell_type": "markdown",
      "metadata": {
        "id": "1dgWlHVAX8Db"
      },
      "source": [
        "As it is seen from the plot and the correlation coeficient there is a slight correlation between total tests per thousand and total deaths per million, as the more tests are done, the more covid cases are found as the cause of death."
      ]
    }
  ]
}