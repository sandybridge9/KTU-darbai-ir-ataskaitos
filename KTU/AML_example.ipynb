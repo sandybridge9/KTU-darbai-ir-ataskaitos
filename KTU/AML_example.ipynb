{
  "nbformat": 4,
  "nbformat_minor": 0,
  "metadata": {
    "kernelspec": {
      "display_name": "Python 3",
      "language": "python",
      "name": "python3"
    },
    "language_info": {
      "codemirror_mode": {
        "name": "ipython",
        "version": 3
      },
      "file_extension": ".py",
      "mimetype": "text/x-python",
      "name": "python",
      "nbconvert_exporter": "python",
      "pygments_lexer": "ipython3",
      "version": "3.6.9"
    },
    "colab": {
      "name": "AML_Edvardas_Ivaskevicius.ipynb",
      "provenance": [],
      "collapsed_sections": []
    }
  },
  "cells": [
    {
      "cell_type": "markdown",
      "metadata": {
        "id": "y8K8Ck3oZwJ2"
      },
      "source": [
        "# Viral Data Analysis\n",
        "\n",
        "> Projects questions:\n",
        "\n",
        "1.   Which county has the highest new cases per million in October\n",
        "2.   What is the correlation between people older than 65 and total deaths\n",
        "3.   Can we predict which county will have the highest covid cases ?"
      ]
    },
    {
      "cell_type": "markdown",
      "metadata": {
        "id": "h_TgTj2JZwJ3"
      },
      "source": [
        "## Load the data"
      ]
    },
    {
      "cell_type": "code",
      "metadata": {
        "id": "YrQxdnHzZwJ3"
      },
      "source": [
        "import numpy as np\n",
        "import numpy.ma as ma\n",
        "import pandas as pd\n",
        "import matplotlib.pyplot as plt"
      ],
      "execution_count": 1,
      "outputs": []
    },
    {
      "cell_type": "markdown",
      "metadata": {
        "id": "WWaqxd1bZwJ6"
      },
      "source": [
        "Download the data to cache locally. Do this once (a day), and comment out, not to DoS the server. (adopted from https://stackoverflow.com/a/35997720)."
      ]
    },
    {
      "cell_type": "code",
      "metadata": {
        "id": "FnxZYG-nZwJ6",
        "outputId": "484b3988-b054-4609-a01b-5cf5dc2382f0",
        "colab": {
          "base_uri": "https://localhost:8080/",
          "height": 34
        }
      },
      "source": [
        "import requests\n",
        "fname = 'owid-covid-data.csv'\n",
        "url = 'https://covid.ourworldindata.org/data/' + fname\n",
        "r = requests.get(url)\n",
        "open(fname, 'wb').write(r.content)"
      ],
      "execution_count": 2,
      "outputs": [
        {
          "output_type": "execute_result",
          "data": {
            "text/plain": [
              "11454574"
            ]
          },
          "metadata": {
            "tags": []
          },
          "execution_count": 2
        }
      ]
    },
    {
      "cell_type": "markdown",
      "metadata": {
        "id": "M6IurObbZwJ9"
      },
      "source": [
        "Load the file to Pandas."
      ]
    },
    {
      "cell_type": "code",
      "metadata": {
        "id": "N3Doz1hTZwJ-"
      },
      "source": [
        "#url = \"https://covid.ourworldindata.org/data/owid-covid-data.csv\"\n",
        "# download the file locally when developing, not to DoS the server:\n",
        "url = \"owid-covid-data.csv\" \n",
        "df = pd.read_csv(url, parse_dates=[3])"
      ],
      "execution_count": 3,
      "outputs": []
    },
    {
      "cell_type": "markdown",
      "metadata": {
        "id": "br_kdSnCZwKA"
      },
      "source": [
        "Check the columns available."
      ]
    },
    {
      "cell_type": "code",
      "metadata": {
        "scrolled": true,
        "id": "ktIVXslxZwKA",
        "outputId": "98a7043c-ce4b-4a42-e9df-e62b05083263",
        "colab": {
          "base_uri": "https://localhost:8080/",
          "height": 272
        }
      },
      "source": [
        "df.columns"
      ],
      "execution_count": 4,
      "outputs": [
        {
          "output_type": "execute_result",
          "data": {
            "text/plain": [
              "Index(['iso_code', 'continent', 'location', 'date', 'total_cases', 'new_cases',\n",
              "       'new_cases_smoothed', 'total_deaths', 'new_deaths',\n",
              "       'new_deaths_smoothed', 'total_cases_per_million',\n",
              "       'new_cases_per_million', 'new_cases_smoothed_per_million',\n",
              "       'total_deaths_per_million', 'new_deaths_per_million',\n",
              "       'new_deaths_smoothed_per_million', 'total_tests', 'new_tests',\n",
              "       'total_tests_per_thousand', 'new_tests_per_thousand',\n",
              "       'new_tests_smoothed', 'new_tests_smoothed_per_thousand',\n",
              "       'tests_per_case', 'positive_rate', 'tests_units', 'stringency_index',\n",
              "       'population', 'population_density', 'median_age', 'aged_65_older',\n",
              "       'aged_70_older', 'gdp_per_capita', 'extreme_poverty',\n",
              "       'cardiovasc_death_rate', 'diabetes_prevalence', 'female_smokers',\n",
              "       'male_smokers', 'handwashing_facilities', 'hospital_beds_per_thousand',\n",
              "       'life_expectancy', 'human_development_index'],\n",
              "      dtype='object')"
            ]
          },
          "metadata": {
            "tags": []
          },
          "execution_count": 4
        }
      ]
    },
    {
      "cell_type": "markdown",
      "metadata": {
        "id": "7JKaCRVuZwKD"
      },
      "source": [
        "The columns are explained [here](https://github.com/owid/covid-19-data/blob/master/public/data/owid-covid-codebook.csv). "
      ]
    },
    {
      "cell_type": "markdown",
      "metadata": {
        "id": "-1FBcp8FZwKD"
      },
      "source": [
        "Check the \"freshness\" of the data."
      ]
    },
    {
      "cell_type": "code",
      "metadata": {
        "scrolled": true,
        "id": "emP2OeyOZwKD",
        "outputId": "b341ea77-8477-49af-8182-10f73a37145a",
        "colab": {
          "base_uri": "https://localhost:8080/",
          "height": 34
        }
      },
      "source": [
        "df.date.max()"
      ],
      "execution_count": null,
      "outputs": [
        {
          "output_type": "execute_result",
          "data": {
            "text/plain": [
              "Timestamp('2020-10-22 00:00:00')"
            ]
          },
          "metadata": {
            "tags": []
          },
          "execution_count": 8
        }
      ]
    },
    {
      "cell_type": "markdown",
      "metadata": {
        "id": "TicKwEHkZwKH"
      },
      "source": [
        "All the different country codes:"
      ]
    },
    {
      "cell_type": "code",
      "metadata": {
        "scrolled": false,
        "id": "Px_1C6uJZwKH",
        "outputId": "28607e90-8bac-4acc-e582-6c9d40ae930d",
        "colab": {
          "base_uri": "https://localhost:8080/",
          "height": 420
        }
      },
      "source": [
        "df.iso_code.unique()"
      ],
      "execution_count": null,
      "outputs": [
        {
          "output_type": "execute_result",
          "data": {
            "text/plain": [
              "array(['ABW', 'AFG', 'AGO', 'AIA', 'ALB', 'AND', 'ARE', 'ARG', 'ARM',\n",
              "       'ATG', 'AUS', 'AUT', 'AZE', 'BDI', 'BEL', 'BEN', 'BES', 'BFA',\n",
              "       'BGD', 'BGR', 'BHR', 'BHS', 'BIH', 'BLR', 'BLZ', 'BMU', 'BOL',\n",
              "       'BRA', 'BRB', 'BRN', 'BTN', 'BWA', 'CAF', 'CAN', 'CHE', 'CHL',\n",
              "       'CHN', 'CIV', 'CMR', 'COD', 'COG', 'COL', 'COM', 'CPV', 'CRI',\n",
              "       'CUB', 'CUW', 'CYM', 'CYP', 'CZE', 'DEU', 'DJI', 'DMA', 'DNK',\n",
              "       'DOM', 'DZA', 'ECU', 'EGY', 'ERI', 'ESH', 'ESP', 'EST', 'ETH',\n",
              "       'FIN', 'FJI', 'FLK', 'FRA', 'FRO', 'GAB', 'GBR', 'GEO', 'GGY',\n",
              "       'GHA', 'GIB', 'GIN', 'GMB', 'GNB', 'GNQ', 'GRC', 'GRD', 'GRL',\n",
              "       'GTM', 'GUM', 'GUY', 'HKG', 'HND', 'HRV', 'HTI', 'HUN', 'IDN',\n",
              "       'IMN', 'IND', 'IRL', 'IRN', 'IRQ', 'ISL', 'ISR', 'ITA', 'JAM',\n",
              "       'JEY', 'JOR', 'JPN', 'KAZ', 'KEN', 'KGZ', 'KHM', 'KNA', 'KOR',\n",
              "       'KWT', 'LAO', 'LBN', 'LBR', 'LBY', 'LCA', 'LIE', 'LKA', 'LSO',\n",
              "       'LTU', 'LUX', 'LVA', 'MAR', 'MCO', 'MDA', 'MDG', 'MDV', 'MEX',\n",
              "       'MKD', 'MLI', 'MLT', 'MMR', 'MNE', 'MNG', 'MNP', 'MOZ', 'MRT',\n",
              "       'MSR', 'MUS', 'MWI', 'MYS', 'NAM', 'NCL', 'NER', 'NGA', 'NIC',\n",
              "       'NLD', 'NOR', 'NPL', 'NZL', 'OMN', 'PAK', 'PAN', 'PER', 'PHL',\n",
              "       'PNG', 'POL', 'PRI', 'PRT', 'PRY', 'PSE', 'PYF', 'QAT', 'ROU',\n",
              "       'RUS', 'RWA', 'SAU', 'SDN', 'SEN', 'SGP', 'SLB', 'SLE', 'SLV',\n",
              "       'SMR', 'SOM', 'SRB', 'SSD', 'STP', 'SUR', 'SVK', 'SVN', 'SWE',\n",
              "       'SWZ', 'SXM', 'SYC', 'SYR', 'TCA', 'TCD', 'TGO', 'THA', 'TJK',\n",
              "       'TLS', 'TTO', 'TUN', 'TUR', 'TWN', 'TZA', 'UGA', 'UKR', 'URY',\n",
              "       'USA', 'UZB', 'VAT', 'VCT', 'VEN', 'VGB', 'VIR', 'VNM', 'OWID_KOS',\n",
              "       'YEM', 'ZAF', 'ZMB', 'ZWE', 'OWID_WRL', nan], dtype=object)"
            ]
          },
          "metadata": {
            "tags": []
          },
          "execution_count": 9
        }
      ]
    },
    {
      "cell_type": "markdown",
      "metadata": {
        "id": "RyCizYwsZwKL"
      },
      "source": [
        "Column info."
      ]
    },
    {
      "cell_type": "code",
      "metadata": {
        "scrolled": false,
        "tags": [],
        "id": "lAdjNpcGZwKL",
        "outputId": "3ad6d56f-c430-42ee-a921-cf2cba47f825",
        "colab": {
          "base_uri": "https://localhost:8080/",
          "height": 823
        }
      },
      "source": [
        "df.info()"
      ],
      "execution_count": null,
      "outputs": [
        {
          "output_type": "stream",
          "text": [
            "<class 'pandas.core.frame.DataFrame'>\n",
            "RangeIndex: 51798 entries, 0 to 51797\n",
            "Data columns (total 41 columns):\n",
            " #   Column                           Non-Null Count  Dtype         \n",
            "---  ------                           --------------  -----         \n",
            " 0   iso_code                         51501 non-null  object        \n",
            " 1   continent                        51204 non-null  object        \n",
            " 2   location                         51798 non-null  object        \n",
            " 3   date                             51798 non-null  datetime64[ns]\n",
            " 4   total_cases                      48191 non-null  float64       \n",
            " 5   new_cases                        50916 non-null  float64       \n",
            " 6   new_cases_smoothed               50128 non-null  float64       \n",
            " 7   total_deaths                     39366 non-null  float64       \n",
            " 8   new_deaths                       50916 non-null  float64       \n",
            " 9   new_deaths_smoothed              50128 non-null  float64       \n",
            " 10  total_cases_per_million          47930 non-null  float64       \n",
            " 11  new_cases_per_million            50852 non-null  float64       \n",
            " 12  new_cases_smoothed_per_million   50063 non-null  float64       \n",
            " 13  total_deaths_per_million         39120 non-null  float64       \n",
            " 14  new_deaths_per_million           50852 non-null  float64       \n",
            " 15  new_deaths_smoothed_per_million  50063 non-null  float64       \n",
            " 16  total_tests                      19626 non-null  float64       \n",
            " 17  new_tests                        19276 non-null  float64       \n",
            " 18  total_tests_per_thousand         19626 non-null  float64       \n",
            " 19  new_tests_per_thousand           19276 non-null  float64       \n",
            " 20  new_tests_smoothed               21661 non-null  float64       \n",
            " 21  new_tests_smoothed_per_thousand  21661 non-null  float64       \n",
            " 22  tests_per_case                   19968 non-null  float64       \n",
            " 23  positive_rate                    20312 non-null  float64       \n",
            " 24  tests_units                      22612 non-null  object        \n",
            " 25  stringency_index                 43047 non-null  float64       \n",
            " 26  population                       51501 non-null  float64       \n",
            " 27  population_density               49119 non-null  float64       \n",
            " 28  median_age                       46140 non-null  float64       \n",
            " 29  aged_65_older                    45449 non-null  float64       \n",
            " 30  aged_70_older                    45900 non-null  float64       \n",
            " 31  gdp_per_capita                   45531 non-null  float64       \n",
            " 32  extreme_poverty                  30363 non-null  float64       \n",
            " 33  cardiovasc_death_rate            46120 non-null  float64       \n",
            " 34  diabetes_prevalence              47785 non-null  float64       \n",
            " 35  female_smokers                   35992 non-null  float64       \n",
            " 36  male_smokers                     35531 non-null  float64       \n",
            " 37  handwashing_facilities           21733 non-null  float64       \n",
            " 38  hospital_beds_per_thousand       41596 non-null  float64       \n",
            " 39  life_expectancy                  50844 non-null  float64       \n",
            " 40  human_development_index          44515 non-null  float64       \n",
            "dtypes: datetime64[ns](1), float64(36), object(4)\n",
            "memory usage: 16.2+ MB\n"
          ],
          "name": "stdout"
        }
      ]
    },
    {
      "cell_type": "code",
      "metadata": {
        "scrolled": true,
        "id": "ajS-nS9hZwKO",
        "outputId": "7a29dc9a-f99e-4393-e4e8-2b780d6c46bd",
        "colab": {
          "base_uri": "https://localhost:8080/",
          "height": 317
        }
      },
      "source": [
        "df.describe()"
      ],
      "execution_count": null,
      "outputs": [
        {
          "output_type": "execute_result",
          "data": {
            "text/html": [
              "<div>\n",
              "<style scoped>\n",
              "    .dataframe tbody tr th:only-of-type {\n",
              "        vertical-align: middle;\n",
              "    }\n",
              "\n",
              "    .dataframe tbody tr th {\n",
              "        vertical-align: top;\n",
              "    }\n",
              "\n",
              "    .dataframe thead th {\n",
              "        text-align: right;\n",
              "    }\n",
              "</style>\n",
              "<table border=\"1\" class=\"dataframe\">\n",
              "  <thead>\n",
              "    <tr style=\"text-align: right;\">\n",
              "      <th></th>\n",
              "      <th>total_cases</th>\n",
              "      <th>new_cases</th>\n",
              "      <th>new_cases_smoothed</th>\n",
              "      <th>total_deaths</th>\n",
              "      <th>new_deaths</th>\n",
              "      <th>new_deaths_smoothed</th>\n",
              "      <th>total_cases_per_million</th>\n",
              "      <th>new_cases_per_million</th>\n",
              "      <th>new_cases_smoothed_per_million</th>\n",
              "      <th>total_deaths_per_million</th>\n",
              "      <th>new_deaths_per_million</th>\n",
              "      <th>new_deaths_smoothed_per_million</th>\n",
              "      <th>new_tests</th>\n",
              "      <th>total_tests</th>\n",
              "      <th>total_tests_per_thousand</th>\n",
              "      <th>new_tests_per_thousand</th>\n",
              "      <th>new_tests_smoothed</th>\n",
              "      <th>new_tests_smoothed_per_thousand</th>\n",
              "      <th>tests_per_case</th>\n",
              "      <th>positive_rate</th>\n",
              "      <th>stringency_index</th>\n",
              "      <th>population</th>\n",
              "      <th>population_density</th>\n",
              "      <th>median_age</th>\n",
              "      <th>aged_65_older</th>\n",
              "      <th>aged_70_older</th>\n",
              "      <th>gdp_per_capita</th>\n",
              "      <th>extreme_poverty</th>\n",
              "      <th>cardiovasc_death_rate</th>\n",
              "      <th>diabetes_prevalence</th>\n",
              "      <th>female_smokers</th>\n",
              "      <th>male_smokers</th>\n",
              "      <th>handwashing_facilities</th>\n",
              "      <th>hospital_beds_per_thousand</th>\n",
              "      <th>life_expectancy</th>\n",
              "      <th>human_development_index</th>\n",
              "    </tr>\n",
              "  </thead>\n",
              "  <tbody>\n",
              "    <tr>\n",
              "      <th>count</th>\n",
              "      <td>4.776400e+04</td>\n",
              "      <td>50491.000000</td>\n",
              "      <td>49704.000000</td>\n",
              "      <td>3.898000e+04</td>\n",
              "      <td>50491.000000</td>\n",
              "      <td>49704.000000</td>\n",
              "      <td>47505.000000</td>\n",
              "      <td>50427.000000</td>\n",
              "      <td>49639.000000</td>\n",
              "      <td>38736.000000</td>\n",
              "      <td>50427.000000</td>\n",
              "      <td>49639.000000</td>\n",
              "      <td>1.932800e+04</td>\n",
              "      <td>1.967900e+04</td>\n",
              "      <td>19679.000000</td>\n",
              "      <td>19328.000000</td>\n",
              "      <td>2.170400e+04</td>\n",
              "      <td>21704.000000</td>\n",
              "      <td>19997.000000</td>\n",
              "      <td>20335.000000</td>\n",
              "      <td>42748.000000</td>\n",
              "      <td>5.109900e+04</td>\n",
              "      <td>48739.000000</td>\n",
              "      <td>45786.000000</td>\n",
              "      <td>45101.000000</td>\n",
              "      <td>45548.000000</td>\n",
              "      <td>45183.000000</td>\n",
              "      <td>30137.000000</td>\n",
              "      <td>45766.000000</td>\n",
              "      <td>47417.000000</td>\n",
              "      <td>35730.000000</td>\n",
              "      <td>35273.000000</td>\n",
              "      <td>21547.000000</td>\n",
              "      <td>41284.000000</td>\n",
              "      <td>50448.000000</td>\n",
              "      <td>44175.000000</td>\n",
              "    </tr>\n",
              "    <tr>\n",
              "      <th>mean</th>\n",
              "      <td>1.329494e+05</td>\n",
              "      <td>1603.144323</td>\n",
              "      <td>1584.667526</td>\n",
              "      <td>6.054137e+03</td>\n",
              "      <td>44.335347</td>\n",
              "      <td>44.433810</td>\n",
              "      <td>2446.759870</td>\n",
              "      <td>29.061671</td>\n",
              "      <td>28.337590</td>\n",
              "      <td>84.253851</td>\n",
              "      <td>0.586546</td>\n",
              "      <td>0.583710</td>\n",
              "      <td>2.498627e+04</td>\n",
              "      <td>1.822427e+06</td>\n",
              "      <td>63.884158</td>\n",
              "      <td>0.802458</td>\n",
              "      <td>2.417559e+04</td>\n",
              "      <td>0.785796</td>\n",
              "      <td>191.968635</td>\n",
              "      <td>0.066792</td>\n",
              "      <td>56.979624</td>\n",
              "      <td>8.710317e+07</td>\n",
              "      <td>361.610925</td>\n",
              "      <td>31.260995</td>\n",
              "      <td>9.221162</td>\n",
              "      <td>5.829627</td>\n",
              "      <td>20776.611135</td>\n",
              "      <td>12.258984</td>\n",
              "      <td>251.922591</td>\n",
              "      <td>8.053385</td>\n",
              "      <td>10.780057</td>\n",
              "      <td>32.637157</td>\n",
              "      <td>52.300497</td>\n",
              "      <td>3.100584</td>\n",
              "      <td>73.984687</td>\n",
              "      <td>0.723675</td>\n",
              "    </tr>\n",
              "    <tr>\n",
              "      <th>std</th>\n",
              "      <td>1.331521e+06</td>\n",
              "      <td>14439.062869</td>\n",
              "      <td>14179.965367</td>\n",
              "      <td>4.900451e+04</td>\n",
              "      <td>370.496009</td>\n",
              "      <td>360.509934</td>\n",
              "      <td>4849.664589</td>\n",
              "      <td>103.418016</td>\n",
              "      <td>70.316223</td>\n",
              "      <td>168.475682</td>\n",
              "      <td>2.948014</td>\n",
              "      <td>1.868564</td>\n",
              "      <td>1.034436e+05</td>\n",
              "      <td>8.404629e+06</td>\n",
              "      <td>128.404475</td>\n",
              "      <td>1.508543</td>\n",
              "      <td>9.558351e+04</td>\n",
              "      <td>1.369417</td>\n",
              "      <td>916.893512</td>\n",
              "      <td>0.093082</td>\n",
              "      <td>26.817463</td>\n",
              "      <td>6.076292e+08</td>\n",
              "      <td>1650.058841</td>\n",
              "      <td>9.033895</td>\n",
              "      <td>6.307114</td>\n",
              "      <td>4.304584</td>\n",
              "      <td>20375.915132</td>\n",
              "      <td>19.315657</td>\n",
              "      <td>117.408280</td>\n",
              "      <td>4.153622</td>\n",
              "      <td>10.474303</td>\n",
              "      <td>13.434161</td>\n",
              "      <td>31.622788</td>\n",
              "      <td>2.520864</td>\n",
              "      <td>7.384698</td>\n",
              "      <td>0.153019</td>\n",
              "    </tr>\n",
              "    <tr>\n",
              "      <th>min</th>\n",
              "      <td>1.000000e+00</td>\n",
              "      <td>-8261.000000</td>\n",
              "      <td>-552.000000</td>\n",
              "      <td>1.000000e+00</td>\n",
              "      <td>-1918.000000</td>\n",
              "      <td>-232.143000</td>\n",
              "      <td>0.001000</td>\n",
              "      <td>-2212.545000</td>\n",
              "      <td>-269.978000</td>\n",
              "      <td>0.000000</td>\n",
              "      <td>-67.901000</td>\n",
              "      <td>-9.678000</td>\n",
              "      <td>-3.743000e+03</td>\n",
              "      <td>1.000000e+00</td>\n",
              "      <td>0.000000</td>\n",
              "      <td>-0.398000</td>\n",
              "      <td>0.000000e+00</td>\n",
              "      <td>0.000000</td>\n",
              "      <td>1.324000</td>\n",
              "      <td>0.000000</td>\n",
              "      <td>0.000000</td>\n",
              "      <td>8.090000e+02</td>\n",
              "      <td>0.137000</td>\n",
              "      <td>15.100000</td>\n",
              "      <td>1.144000</td>\n",
              "      <td>0.526000</td>\n",
              "      <td>661.240000</td>\n",
              "      <td>0.100000</td>\n",
              "      <td>79.370000</td>\n",
              "      <td>0.990000</td>\n",
              "      <td>0.100000</td>\n",
              "      <td>7.700000</td>\n",
              "      <td>1.188000</td>\n",
              "      <td>0.100000</td>\n",
              "      <td>53.280000</td>\n",
              "      <td>0.354000</td>\n",
              "    </tr>\n",
              "    <tr>\n",
              "      <th>25%</th>\n",
              "      <td>1.410000e+02</td>\n",
              "      <td>0.000000</td>\n",
              "      <td>0.714000</td>\n",
              "      <td>1.100000e+01</td>\n",
              "      <td>0.000000</td>\n",
              "      <td>0.000000</td>\n",
              "      <td>70.179000</td>\n",
              "      <td>0.000000</td>\n",
              "      <td>0.194000</td>\n",
              "      <td>3.318000</td>\n",
              "      <td>0.000000</td>\n",
              "      <td>0.000000</td>\n",
              "      <td>1.000750e+03</td>\n",
              "      <td>5.244050e+04</td>\n",
              "      <td>3.225500</td>\n",
              "      <td>0.066000</td>\n",
              "      <td>1.081000e+03</td>\n",
              "      <td>0.068000</td>\n",
              "      <td>11.281000</td>\n",
              "      <td>0.009000</td>\n",
              "      <td>38.890000</td>\n",
              "      <td>1.399491e+06</td>\n",
              "      <td>37.728000</td>\n",
              "      <td>23.300000</td>\n",
              "      <td>3.552000</td>\n",
              "      <td>2.085000</td>\n",
              "      <td>5338.454000</td>\n",
              "      <td>0.500000</td>\n",
              "      <td>155.898000</td>\n",
              "      <td>5.310000</td>\n",
              "      <td>1.900000</td>\n",
              "      <td>21.400000</td>\n",
              "      <td>21.222000</td>\n",
              "      <td>1.300000</td>\n",
              "      <td>69.870000</td>\n",
              "      <td>0.601000</td>\n",
              "    </tr>\n",
              "    <tr>\n",
              "      <th>50%</th>\n",
              "      <td>1.666500e+03</td>\n",
              "      <td>12.000000</td>\n",
              "      <td>17.000000</td>\n",
              "      <td>7.000000e+01</td>\n",
              "      <td>0.000000</td>\n",
              "      <td>0.286000</td>\n",
              "      <td>465.734000</td>\n",
              "      <td>1.817000</td>\n",
              "      <td>3.360000</td>\n",
              "      <td>17.163500</td>\n",
              "      <td>0.000000</td>\n",
              "      <td>0.024000</td>\n",
              "      <td>3.446500e+03</td>\n",
              "      <td>2.238940e+05</td>\n",
              "      <td>16.486000</td>\n",
              "      <td>0.302000</td>\n",
              "      <td>3.828000e+03</td>\n",
              "      <td>0.316000</td>\n",
              "      <td>32.095000</td>\n",
              "      <td>0.030000</td>\n",
              "      <td>62.040000</td>\n",
              "      <td>8.278737e+06</td>\n",
              "      <td>88.125000</td>\n",
              "      <td>31.100000</td>\n",
              "      <td>6.981000</td>\n",
              "      <td>4.393000</td>\n",
              "      <td>14048.881000</td>\n",
              "      <td>2.000000</td>\n",
              "      <td>238.339000</td>\n",
              "      <td>7.110000</td>\n",
              "      <td>6.400000</td>\n",
              "      <td>31.400000</td>\n",
              "      <td>52.232000</td>\n",
              "      <td>2.500000</td>\n",
              "      <td>75.400000</td>\n",
              "      <td>0.754000</td>\n",
              "    </tr>\n",
              "    <tr>\n",
              "      <th>75%</th>\n",
              "      <td>1.665325e+04</td>\n",
              "      <td>190.000000</td>\n",
              "      <td>197.892750</td>\n",
              "      <td>6.060000e+02</td>\n",
              "      <td>3.000000</td>\n",
              "      <td>3.429000</td>\n",
              "      <td>2698.176000</td>\n",
              "      <td>20.949000</td>\n",
              "      <td>23.622000</td>\n",
              "      <td>69.314000</td>\n",
              "      <td>0.235000</td>\n",
              "      <td>0.336000</td>\n",
              "      <td>1.255825e+04</td>\n",
              "      <td>8.944525e+05</td>\n",
              "      <td>68.906500</td>\n",
              "      <td>0.927000</td>\n",
              "      <td>1.350000e+04</td>\n",
              "      <td>0.934000</td>\n",
              "      <td>104.201000</td>\n",
              "      <td>0.087000</td>\n",
              "      <td>78.700000</td>\n",
              "      <td>2.982597e+07</td>\n",
              "      <td>214.243000</td>\n",
              "      <td>39.700000</td>\n",
              "      <td>14.762000</td>\n",
              "      <td>9.473000</td>\n",
              "      <td>31400.840000</td>\n",
              "      <td>18.100000</td>\n",
              "      <td>318.991000</td>\n",
              "      <td>10.390000</td>\n",
              "      <td>19.600000</td>\n",
              "      <td>40.900000</td>\n",
              "      <td>83.741000</td>\n",
              "      <td>4.200000</td>\n",
              "      <td>79.380000</td>\n",
              "      <td>0.847000</td>\n",
              "    </tr>\n",
              "    <tr>\n",
              "      <th>max</th>\n",
              "      <td>4.047250e+07</td>\n",
              "      <td>400350.000000</td>\n",
              "      <td>364659.143000</td>\n",
              "      <td>1.119283e+06</td>\n",
              "      <td>10468.000000</td>\n",
              "      <td>7459.143000</td>\n",
              "      <td>46890.571000</td>\n",
              "      <td>8652.658000</td>\n",
              "      <td>2472.188000</td>\n",
              "      <td>1237.551000</td>\n",
              "      <td>215.382000</td>\n",
              "      <td>63.140000</td>\n",
              "      <td>1.492409e+06</td>\n",
              "      <td>1.600000e+08</td>\n",
              "      <td>1509.435000</td>\n",
              "      <td>25.955000</td>\n",
              "      <td>1.169107e+06</td>\n",
              "      <td>19.092000</td>\n",
              "      <td>45864.000000</td>\n",
              "      <td>0.755000</td>\n",
              "      <td>100.000000</td>\n",
              "      <td>7.794799e+09</td>\n",
              "      <td>19347.500000</td>\n",
              "      <td>48.200000</td>\n",
              "      <td>27.049000</td>\n",
              "      <td>18.493000</td>\n",
              "      <td>116935.600000</td>\n",
              "      <td>77.600000</td>\n",
              "      <td>724.417000</td>\n",
              "      <td>23.360000</td>\n",
              "      <td>44.000000</td>\n",
              "      <td>78.100000</td>\n",
              "      <td>98.999000</td>\n",
              "      <td>13.800000</td>\n",
              "      <td>86.750000</td>\n",
              "      <td>0.953000</td>\n",
              "    </tr>\n",
              "  </tbody>\n",
              "</table>\n",
              "</div>"
            ],
            "text/plain": [
              "        total_cases      new_cases  ...  life_expectancy  human_development_index\n",
              "count  4.776400e+04   50491.000000  ...     50448.000000             44175.000000\n",
              "mean   1.329494e+05    1603.144323  ...        73.984687                 0.723675\n",
              "std    1.331521e+06   14439.062869  ...         7.384698                 0.153019\n",
              "min    1.000000e+00   -8261.000000  ...        53.280000                 0.354000\n",
              "25%    1.410000e+02       0.000000  ...        69.870000                 0.601000\n",
              "50%    1.666500e+03      12.000000  ...        75.400000                 0.754000\n",
              "75%    1.665325e+04     190.000000  ...        79.380000                 0.847000\n",
              "max    4.047250e+07  400350.000000  ...        86.750000                 0.953000\n",
              "\n",
              "[8 rows x 36 columns]"
            ]
          },
          "metadata": {
            "tags": []
          },
          "execution_count": 19
        }
      ]
    },
    {
      "cell_type": "code",
      "metadata": {
        "tags": [],
        "id": "yJNzkDPHZwKQ"
      },
      "source": [
        "#df.iso_code.value_counts().sort_values(ascending=True).plot(kind='barh', figsize=(10,40))\n",
        "#df.groupby(level=[0]).size().sort_values(ascending=True).plot(kind='barh', figsize=(10,40))"
      ],
      "execution_count": null,
      "outputs": []
    },
    {
      "cell_type": "markdown",
      "metadata": {
        "id": "VFni6JC8ZwKS"
      },
      "source": [
        "Create a new DataFrame with only the last row for each country, set iso_code as index"
      ]
    },
    {
      "cell_type": "code",
      "metadata": {
        "scrolled": true,
        "id": "5SqNugxKZwKS",
        "outputId": "c7d1eb9a-0914-44d5-ce23-f4a2aa8f39e9",
        "colab": {
          "base_uri": "https://localhost:8080/",
          "height": 619
        }
      },
      "source": [
        "dfl = df.groupby('iso_code').last()\n",
        "# equivalent:\n",
        "#dfl = df.groupby('iso_code').tail(1).set_index('iso_code') \n",
        "dfl"
      ],
      "execution_count": null,
      "outputs": [
        {
          "output_type": "execute_result",
          "data": {
            "text/html": [
              "<div>\n",
              "<style scoped>\n",
              "    .dataframe tbody tr th:only-of-type {\n",
              "        vertical-align: middle;\n",
              "    }\n",
              "\n",
              "    .dataframe tbody tr th {\n",
              "        vertical-align: top;\n",
              "    }\n",
              "\n",
              "    .dataframe thead th {\n",
              "        text-align: right;\n",
              "    }\n",
              "</style>\n",
              "<table border=\"1\" class=\"dataframe\">\n",
              "  <thead>\n",
              "    <tr style=\"text-align: right;\">\n",
              "      <th></th>\n",
              "      <th>continent</th>\n",
              "      <th>location</th>\n",
              "      <th>date</th>\n",
              "      <th>total_cases</th>\n",
              "      <th>new_cases</th>\n",
              "      <th>new_cases_smoothed</th>\n",
              "      <th>total_deaths</th>\n",
              "      <th>new_deaths</th>\n",
              "      <th>new_deaths_smoothed</th>\n",
              "      <th>total_cases_per_million</th>\n",
              "      <th>new_cases_per_million</th>\n",
              "      <th>new_cases_smoothed_per_million</th>\n",
              "      <th>total_deaths_per_million</th>\n",
              "      <th>new_deaths_per_million</th>\n",
              "      <th>new_deaths_smoothed_per_million</th>\n",
              "      <th>total_tests</th>\n",
              "      <th>new_tests</th>\n",
              "      <th>total_tests_per_thousand</th>\n",
              "      <th>new_tests_per_thousand</th>\n",
              "      <th>new_tests_smoothed</th>\n",
              "      <th>new_tests_smoothed_per_thousand</th>\n",
              "      <th>tests_per_case</th>\n",
              "      <th>positive_rate</th>\n",
              "      <th>tests_units</th>\n",
              "      <th>stringency_index</th>\n",
              "      <th>population</th>\n",
              "      <th>population_density</th>\n",
              "      <th>median_age</th>\n",
              "      <th>aged_65_older</th>\n",
              "      <th>aged_70_older</th>\n",
              "      <th>gdp_per_capita</th>\n",
              "      <th>extreme_poverty</th>\n",
              "      <th>cardiovasc_death_rate</th>\n",
              "      <th>diabetes_prevalence</th>\n",
              "      <th>female_smokers</th>\n",
              "      <th>male_smokers</th>\n",
              "      <th>handwashing_facilities</th>\n",
              "      <th>hospital_beds_per_thousand</th>\n",
              "      <th>life_expectancy</th>\n",
              "      <th>human_development_index</th>\n",
              "    </tr>\n",
              "    <tr>\n",
              "      <th>iso_code</th>\n",
              "      <th></th>\n",
              "      <th></th>\n",
              "      <th></th>\n",
              "      <th></th>\n",
              "      <th></th>\n",
              "      <th></th>\n",
              "      <th></th>\n",
              "      <th></th>\n",
              "      <th></th>\n",
              "      <th></th>\n",
              "      <th></th>\n",
              "      <th></th>\n",
              "      <th></th>\n",
              "      <th></th>\n",
              "      <th></th>\n",
              "      <th></th>\n",
              "      <th></th>\n",
              "      <th></th>\n",
              "      <th></th>\n",
              "      <th></th>\n",
              "      <th></th>\n",
              "      <th></th>\n",
              "      <th></th>\n",
              "      <th></th>\n",
              "      <th></th>\n",
              "      <th></th>\n",
              "      <th></th>\n",
              "      <th></th>\n",
              "      <th></th>\n",
              "      <th></th>\n",
              "      <th></th>\n",
              "      <th></th>\n",
              "      <th></th>\n",
              "      <th></th>\n",
              "      <th></th>\n",
              "      <th></th>\n",
              "      <th></th>\n",
              "      <th></th>\n",
              "      <th></th>\n",
              "      <th></th>\n",
              "    </tr>\n",
              "  </thead>\n",
              "  <tbody>\n",
              "    <tr>\n",
              "      <th>ABW</th>\n",
              "      <td>North America</td>\n",
              "      <td>Aruba</td>\n",
              "      <td>2020-10-22</td>\n",
              "      <td>4369.0</td>\n",
              "      <td>14.0</td>\n",
              "      <td>16.286</td>\n",
              "      <td>35.0</td>\n",
              "      <td>1.0</td>\n",
              "      <td>0.429</td>\n",
              "      <td>40921.267</td>\n",
              "      <td>131.128</td>\n",
              "      <td>152.537</td>\n",
              "      <td>327.820</td>\n",
              "      <td>9.366</td>\n",
              "      <td>4.014</td>\n",
              "      <td>NaN</td>\n",
              "      <td>NaN</td>\n",
              "      <td>NaN</td>\n",
              "      <td>NaN</td>\n",
              "      <td>NaN</td>\n",
              "      <td>NaN</td>\n",
              "      <td>NaN</td>\n",
              "      <td>NaN</td>\n",
              "      <td>NaN</td>\n",
              "      <td>50.46</td>\n",
              "      <td>106766.0</td>\n",
              "      <td>584.800</td>\n",
              "      <td>41.2</td>\n",
              "      <td>13.085</td>\n",
              "      <td>7.452</td>\n",
              "      <td>35973.781</td>\n",
              "      <td>NaN</td>\n",
              "      <td>NaN</td>\n",
              "      <td>11.62</td>\n",
              "      <td>NaN</td>\n",
              "      <td>NaN</td>\n",
              "      <td>NaN</td>\n",
              "      <td>NaN</td>\n",
              "      <td>76.29</td>\n",
              "      <td>NaN</td>\n",
              "    </tr>\n",
              "    <tr>\n",
              "      <th>AFG</th>\n",
              "      <td>Asia</td>\n",
              "      <td>Afghanistan</td>\n",
              "      <td>2020-10-22</td>\n",
              "      <td>40510.0</td>\n",
              "      <td>135.0</td>\n",
              "      <td>69.143</td>\n",
              "      <td>1501.0</td>\n",
              "      <td>2.0</td>\n",
              "      <td>2.857</td>\n",
              "      <td>1040.630</td>\n",
              "      <td>3.468</td>\n",
              "      <td>1.776</td>\n",
              "      <td>38.558</td>\n",
              "      <td>0.051</td>\n",
              "      <td>0.073</td>\n",
              "      <td>NaN</td>\n",
              "      <td>NaN</td>\n",
              "      <td>NaN</td>\n",
              "      <td>NaN</td>\n",
              "      <td>NaN</td>\n",
              "      <td>NaN</td>\n",
              "      <td>NaN</td>\n",
              "      <td>NaN</td>\n",
              "      <td>NaN</td>\n",
              "      <td>25.00</td>\n",
              "      <td>38928341.0</td>\n",
              "      <td>54.422</td>\n",
              "      <td>18.6</td>\n",
              "      <td>2.581</td>\n",
              "      <td>1.337</td>\n",
              "      <td>1803.987</td>\n",
              "      <td>NaN</td>\n",
              "      <td>597.029</td>\n",
              "      <td>9.59</td>\n",
              "      <td>NaN</td>\n",
              "      <td>NaN</td>\n",
              "      <td>37.746</td>\n",
              "      <td>0.50</td>\n",
              "      <td>64.83</td>\n",
              "      <td>0.498</td>\n",
              "    </tr>\n",
              "    <tr>\n",
              "      <th>AGO</th>\n",
              "      <td>Africa</td>\n",
              "      <td>Angola</td>\n",
              "      <td>2020-10-22</td>\n",
              "      <td>8049.0</td>\n",
              "      <td>220.0</td>\n",
              "      <td>195.571</td>\n",
              "      <td>251.0</td>\n",
              "      <td>3.0</td>\n",
              "      <td>4.143</td>\n",
              "      <td>244.902</td>\n",
              "      <td>6.694</td>\n",
              "      <td>5.951</td>\n",
              "      <td>7.637</td>\n",
              "      <td>0.091</td>\n",
              "      <td>0.126</td>\n",
              "      <td>NaN</td>\n",
              "      <td>NaN</td>\n",
              "      <td>NaN</td>\n",
              "      <td>NaN</td>\n",
              "      <td>NaN</td>\n",
              "      <td>NaN</td>\n",
              "      <td>NaN</td>\n",
              "      <td>NaN</td>\n",
              "      <td>NaN</td>\n",
              "      <td>71.30</td>\n",
              "      <td>32866268.0</td>\n",
              "      <td>23.890</td>\n",
              "      <td>16.8</td>\n",
              "      <td>2.405</td>\n",
              "      <td>1.362</td>\n",
              "      <td>5819.495</td>\n",
              "      <td>NaN</td>\n",
              "      <td>276.045</td>\n",
              "      <td>3.94</td>\n",
              "      <td>NaN</td>\n",
              "      <td>NaN</td>\n",
              "      <td>26.664</td>\n",
              "      <td>NaN</td>\n",
              "      <td>61.15</td>\n",
              "      <td>0.581</td>\n",
              "    </tr>\n",
              "    <tr>\n",
              "      <th>AIA</th>\n",
              "      <td>North America</td>\n",
              "      <td>Anguilla</td>\n",
              "      <td>2020-10-22</td>\n",
              "      <td>3.0</td>\n",
              "      <td>0.0</td>\n",
              "      <td>0.000</td>\n",
              "      <td>NaN</td>\n",
              "      <td>0.0</td>\n",
              "      <td>0.000</td>\n",
              "      <td>199.973</td>\n",
              "      <td>0.000</td>\n",
              "      <td>0.000</td>\n",
              "      <td>NaN</td>\n",
              "      <td>0.000</td>\n",
              "      <td>0.000</td>\n",
              "      <td>NaN</td>\n",
              "      <td>NaN</td>\n",
              "      <td>NaN</td>\n",
              "      <td>NaN</td>\n",
              "      <td>NaN</td>\n",
              "      <td>NaN</td>\n",
              "      <td>NaN</td>\n",
              "      <td>NaN</td>\n",
              "      <td>NaN</td>\n",
              "      <td>24.07</td>\n",
              "      <td>15002.0</td>\n",
              "      <td>NaN</td>\n",
              "      <td>NaN</td>\n",
              "      <td>NaN</td>\n",
              "      <td>NaN</td>\n",
              "      <td>NaN</td>\n",
              "      <td>NaN</td>\n",
              "      <td>NaN</td>\n",
              "      <td>NaN</td>\n",
              "      <td>NaN</td>\n",
              "      <td>NaN</td>\n",
              "      <td>NaN</td>\n",
              "      <td>NaN</td>\n",
              "      <td>81.88</td>\n",
              "      <td>NaN</td>\n",
              "    </tr>\n",
              "    <tr>\n",
              "      <th>ALB</th>\n",
              "      <td>Europe</td>\n",
              "      <td>Albania</td>\n",
              "      <td>2020-10-22</td>\n",
              "      <td>17948.0</td>\n",
              "      <td>297.0</td>\n",
              "      <td>284.714</td>\n",
              "      <td>462.0</td>\n",
              "      <td>4.0</td>\n",
              "      <td>4.000</td>\n",
              "      <td>6236.709</td>\n",
              "      <td>103.204</td>\n",
              "      <td>98.935</td>\n",
              "      <td>160.539</td>\n",
              "      <td>1.390</td>\n",
              "      <td>1.390</td>\n",
              "      <td>NaN</td>\n",
              "      <td>NaN</td>\n",
              "      <td>NaN</td>\n",
              "      <td>NaN</td>\n",
              "      <td>NaN</td>\n",
              "      <td>NaN</td>\n",
              "      <td>NaN</td>\n",
              "      <td>NaN</td>\n",
              "      <td>NaN</td>\n",
              "      <td>35.19</td>\n",
              "      <td>2877800.0</td>\n",
              "      <td>104.871</td>\n",
              "      <td>38.0</td>\n",
              "      <td>13.188</td>\n",
              "      <td>8.643</td>\n",
              "      <td>11803.431</td>\n",
              "      <td>1.1</td>\n",
              "      <td>304.195</td>\n",
              "      <td>10.08</td>\n",
              "      <td>7.1</td>\n",
              "      <td>51.2</td>\n",
              "      <td>NaN</td>\n",
              "      <td>2.89</td>\n",
              "      <td>78.57</td>\n",
              "      <td>0.785</td>\n",
              "    </tr>\n",
              "    <tr>\n",
              "      <th>...</th>\n",
              "      <td>...</td>\n",
              "      <td>...</td>\n",
              "      <td>...</td>\n",
              "      <td>...</td>\n",
              "      <td>...</td>\n",
              "      <td>...</td>\n",
              "      <td>...</td>\n",
              "      <td>...</td>\n",
              "      <td>...</td>\n",
              "      <td>...</td>\n",
              "      <td>...</td>\n",
              "      <td>...</td>\n",
              "      <td>...</td>\n",
              "      <td>...</td>\n",
              "      <td>...</td>\n",
              "      <td>...</td>\n",
              "      <td>...</td>\n",
              "      <td>...</td>\n",
              "      <td>...</td>\n",
              "      <td>...</td>\n",
              "      <td>...</td>\n",
              "      <td>...</td>\n",
              "      <td>...</td>\n",
              "      <td>...</td>\n",
              "      <td>...</td>\n",
              "      <td>...</td>\n",
              "      <td>...</td>\n",
              "      <td>...</td>\n",
              "      <td>...</td>\n",
              "      <td>...</td>\n",
              "      <td>...</td>\n",
              "      <td>...</td>\n",
              "      <td>...</td>\n",
              "      <td>...</td>\n",
              "      <td>...</td>\n",
              "      <td>...</td>\n",
              "      <td>...</td>\n",
              "      <td>...</td>\n",
              "      <td>...</td>\n",
              "      <td>...</td>\n",
              "    </tr>\n",
              "    <tr>\n",
              "      <th>VNM</th>\n",
              "      <td>Asia</td>\n",
              "      <td>Vietnam</td>\n",
              "      <td>2020-10-22</td>\n",
              "      <td>1145.0</td>\n",
              "      <td>4.0</td>\n",
              "      <td>3.286</td>\n",
              "      <td>35.0</td>\n",
              "      <td>0.0</td>\n",
              "      <td>0.000</td>\n",
              "      <td>11.763</td>\n",
              "      <td>0.041</td>\n",
              "      <td>0.034</td>\n",
              "      <td>0.360</td>\n",
              "      <td>0.000</td>\n",
              "      <td>0.000</td>\n",
              "      <td>1260799.0</td>\n",
              "      <td>3009.0</td>\n",
              "      <td>12.953</td>\n",
              "      <td>0.031</td>\n",
              "      <td>2394.0</td>\n",
              "      <td>0.025</td>\n",
              "      <td>728.609</td>\n",
              "      <td>0.001</td>\n",
              "      <td>samples tested</td>\n",
              "      <td>51.85</td>\n",
              "      <td>97338583.0</td>\n",
              "      <td>308.127</td>\n",
              "      <td>32.6</td>\n",
              "      <td>7.150</td>\n",
              "      <td>4.718</td>\n",
              "      <td>6171.884</td>\n",
              "      <td>2.0</td>\n",
              "      <td>245.465</td>\n",
              "      <td>6.00</td>\n",
              "      <td>1.0</td>\n",
              "      <td>45.9</td>\n",
              "      <td>85.847</td>\n",
              "      <td>2.60</td>\n",
              "      <td>75.40</td>\n",
              "      <td>0.694</td>\n",
              "    </tr>\n",
              "    <tr>\n",
              "      <th>YEM</th>\n",
              "      <td>Asia</td>\n",
              "      <td>Yemen</td>\n",
              "      <td>2020-10-22</td>\n",
              "      <td>2061.0</td>\n",
              "      <td>1.0</td>\n",
              "      <td>0.571</td>\n",
              "      <td>599.0</td>\n",
              "      <td>0.0</td>\n",
              "      <td>0.286</td>\n",
              "      <td>69.101</td>\n",
              "      <td>0.034</td>\n",
              "      <td>0.019</td>\n",
              "      <td>20.083</td>\n",
              "      <td>0.000</td>\n",
              "      <td>0.010</td>\n",
              "      <td>NaN</td>\n",
              "      <td>NaN</td>\n",
              "      <td>NaN</td>\n",
              "      <td>NaN</td>\n",
              "      <td>NaN</td>\n",
              "      <td>NaN</td>\n",
              "      <td>NaN</td>\n",
              "      <td>NaN</td>\n",
              "      <td>NaN</td>\n",
              "      <td>45.37</td>\n",
              "      <td>29825968.0</td>\n",
              "      <td>53.508</td>\n",
              "      <td>20.3</td>\n",
              "      <td>2.922</td>\n",
              "      <td>1.583</td>\n",
              "      <td>1479.147</td>\n",
              "      <td>18.8</td>\n",
              "      <td>495.003</td>\n",
              "      <td>5.35</td>\n",
              "      <td>7.6</td>\n",
              "      <td>29.2</td>\n",
              "      <td>49.542</td>\n",
              "      <td>0.70</td>\n",
              "      <td>66.12</td>\n",
              "      <td>0.452</td>\n",
              "    </tr>\n",
              "    <tr>\n",
              "      <th>ZAF</th>\n",
              "      <td>Africa</td>\n",
              "      <td>South Africa</td>\n",
              "      <td>2020-10-22</td>\n",
              "      <td>708359.0</td>\n",
              "      <td>2055.0</td>\n",
              "      <td>1706.429</td>\n",
              "      <td>18741.0</td>\n",
              "      <td>85.0</td>\n",
              "      <td>84.286</td>\n",
              "      <td>11943.595</td>\n",
              "      <td>34.649</td>\n",
              "      <td>28.772</td>\n",
              "      <td>315.991</td>\n",
              "      <td>1.433</td>\n",
              "      <td>1.421</td>\n",
              "      <td>4581346.0</td>\n",
              "      <td>15366.0</td>\n",
              "      <td>77.246</td>\n",
              "      <td>0.259</td>\n",
              "      <td>21056.0</td>\n",
              "      <td>0.355</td>\n",
              "      <td>11.530</td>\n",
              "      <td>0.087</td>\n",
              "      <td>people tested</td>\n",
              "      <td>39.81</td>\n",
              "      <td>59308690.0</td>\n",
              "      <td>46.754</td>\n",
              "      <td>27.3</td>\n",
              "      <td>5.344</td>\n",
              "      <td>3.053</td>\n",
              "      <td>12294.876</td>\n",
              "      <td>18.9</td>\n",
              "      <td>200.380</td>\n",
              "      <td>5.52</td>\n",
              "      <td>8.1</td>\n",
              "      <td>33.2</td>\n",
              "      <td>43.993</td>\n",
              "      <td>2.32</td>\n",
              "      <td>64.13</td>\n",
              "      <td>0.699</td>\n",
              "    </tr>\n",
              "    <tr>\n",
              "      <th>ZMB</th>\n",
              "      <td>Africa</td>\n",
              "      <td>Zambia</td>\n",
              "      <td>2020-10-22</td>\n",
              "      <td>16000.0</td>\n",
              "      <td>18.0</td>\n",
              "      <td>54.857</td>\n",
              "      <td>346.0</td>\n",
              "      <td>0.0</td>\n",
              "      <td>0.143</td>\n",
              "      <td>870.324</td>\n",
              "      <td>0.979</td>\n",
              "      <td>2.984</td>\n",
              "      <td>18.821</td>\n",
              "      <td>0.000</td>\n",
              "      <td>0.008</td>\n",
              "      <td>218231.0</td>\n",
              "      <td>3482.0</td>\n",
              "      <td>11.871</td>\n",
              "      <td>0.189</td>\n",
              "      <td>3194.0</td>\n",
              "      <td>0.174</td>\n",
              "      <td>56.603</td>\n",
              "      <td>0.018</td>\n",
              "      <td>tests performed</td>\n",
              "      <td>41.67</td>\n",
              "      <td>18383956.0</td>\n",
              "      <td>22.995</td>\n",
              "      <td>17.7</td>\n",
              "      <td>2.480</td>\n",
              "      <td>1.542</td>\n",
              "      <td>3689.251</td>\n",
              "      <td>57.5</td>\n",
              "      <td>234.499</td>\n",
              "      <td>3.94</td>\n",
              "      <td>3.1</td>\n",
              "      <td>24.7</td>\n",
              "      <td>13.938</td>\n",
              "      <td>2.00</td>\n",
              "      <td>63.89</td>\n",
              "      <td>0.588</td>\n",
              "    </tr>\n",
              "    <tr>\n",
              "      <th>ZWE</th>\n",
              "      <td>Africa</td>\n",
              "      <td>Zimbabwe</td>\n",
              "      <td>2020-10-22</td>\n",
              "      <td>8215.0</td>\n",
              "      <td>28.0</td>\n",
              "      <td>22.857</td>\n",
              "      <td>236.0</td>\n",
              "      <td>3.0</td>\n",
              "      <td>0.714</td>\n",
              "      <td>552.718</td>\n",
              "      <td>1.884</td>\n",
              "      <td>1.538</td>\n",
              "      <td>15.878</td>\n",
              "      <td>0.202</td>\n",
              "      <td>0.048</td>\n",
              "      <td>132239.0</td>\n",
              "      <td>791.0</td>\n",
              "      <td>8.897</td>\n",
              "      <td>0.053</td>\n",
              "      <td>639.0</td>\n",
              "      <td>0.043</td>\n",
              "      <td>32.413</td>\n",
              "      <td>0.031</td>\n",
              "      <td>tests performed</td>\n",
              "      <td>76.85</td>\n",
              "      <td>14862927.0</td>\n",
              "      <td>42.729</td>\n",
              "      <td>19.6</td>\n",
              "      <td>2.822</td>\n",
              "      <td>1.882</td>\n",
              "      <td>1899.775</td>\n",
              "      <td>21.4</td>\n",
              "      <td>307.846</td>\n",
              "      <td>1.82</td>\n",
              "      <td>1.6</td>\n",
              "      <td>30.7</td>\n",
              "      <td>36.791</td>\n",
              "      <td>1.70</td>\n",
              "      <td>61.49</td>\n",
              "      <td>0.535</td>\n",
              "    </tr>\n",
              "  </tbody>\n",
              "</table>\n",
              "<p>212 rows × 40 columns</p>\n",
              "</div>"
            ],
            "text/plain": [
              "              continent      location  ... life_expectancy  human_development_index\n",
              "iso_code                               ...                                         \n",
              "ABW       North America         Aruba  ...           76.29                      NaN\n",
              "AFG                Asia   Afghanistan  ...           64.83                    0.498\n",
              "AGO              Africa        Angola  ...           61.15                    0.581\n",
              "AIA       North America      Anguilla  ...           81.88                      NaN\n",
              "ALB              Europe       Albania  ...           78.57                    0.785\n",
              "...                 ...           ...  ...             ...                      ...\n",
              "VNM                Asia       Vietnam  ...           75.40                    0.694\n",
              "YEM                Asia         Yemen  ...           66.12                    0.452\n",
              "ZAF              Africa  South Africa  ...           64.13                    0.699\n",
              "ZMB              Africa        Zambia  ...           63.89                    0.588\n",
              "ZWE              Africa      Zimbabwe  ...           61.49                    0.535\n",
              "\n",
              "[212 rows x 40 columns]"
            ]
          },
          "metadata": {
            "tags": []
          },
          "execution_count": 11
        }
      ]
    },
    {
      "cell_type": "code",
      "metadata": {
        "id": "ooQViLmlZwKV",
        "outputId": "daec56a6-0657-4c4f-ea5a-6cd5a20f823e",
        "colab": {
          "base_uri": "https://localhost:8080/",
          "height": 833
        }
      },
      "source": [
        "df.info()"
      ],
      "execution_count": null,
      "outputs": [
        {
          "output_type": "stream",
          "text": [
            "<class 'pandas.core.frame.DataFrame'>\n",
            "RangeIndex: 51394 entries, 0 to 51393\n",
            "Data columns (total 41 columns):\n",
            " #   Column                           Non-Null Count  Dtype         \n",
            "---  ------                           --------------  -----         \n",
            " 0   iso_code                         51099 non-null  object        \n",
            " 1   continent                        50804 non-null  object        \n",
            " 2   location                         51394 non-null  object        \n",
            " 3   date                             51394 non-null  datetime64[ns]\n",
            " 4   total_cases                      47764 non-null  float64       \n",
            " 5   new_cases                        50491 non-null  float64       \n",
            " 6   new_cases_smoothed               49704 non-null  float64       \n",
            " 7   total_deaths                     38980 non-null  float64       \n",
            " 8   new_deaths                       50491 non-null  float64       \n",
            " 9   new_deaths_smoothed              49704 non-null  float64       \n",
            " 10  total_cases_per_million          47505 non-null  float64       \n",
            " 11  new_cases_per_million            50427 non-null  float64       \n",
            " 12  new_cases_smoothed_per_million   49639 non-null  float64       \n",
            " 13  total_deaths_per_million         38736 non-null  float64       \n",
            " 14  new_deaths_per_million           50427 non-null  float64       \n",
            " 15  new_deaths_smoothed_per_million  49639 non-null  float64       \n",
            " 16  new_tests                        19328 non-null  float64       \n",
            " 17  total_tests                      19679 non-null  float64       \n",
            " 18  total_tests_per_thousand         19679 non-null  float64       \n",
            " 19  new_tests_per_thousand           19328 non-null  float64       \n",
            " 20  new_tests_smoothed               21704 non-null  float64       \n",
            " 21  new_tests_smoothed_per_thousand  21704 non-null  float64       \n",
            " 22  tests_per_case                   19997 non-null  float64       \n",
            " 23  positive_rate                    20335 non-null  float64       \n",
            " 24  tests_units                      22662 non-null  object        \n",
            " 25  stringency_index                 42748 non-null  float64       \n",
            " 26  population                       51099 non-null  float64       \n",
            " 27  population_density               48739 non-null  float64       \n",
            " 28  median_age                       45786 non-null  float64       \n",
            " 29  aged_65_older                    45101 non-null  float64       \n",
            " 30  aged_70_older                    45548 non-null  float64       \n",
            " 31  gdp_per_capita                   45183 non-null  float64       \n",
            " 32  extreme_poverty                  30137 non-null  float64       \n",
            " 33  cardiovasc_death_rate            45766 non-null  float64       \n",
            " 34  diabetes_prevalence              47417 non-null  float64       \n",
            " 35  female_smokers                   35730 non-null  float64       \n",
            " 36  male_smokers                     35273 non-null  float64       \n",
            " 37  handwashing_facilities           21547 non-null  float64       \n",
            " 38  hospital_beds_per_thousand       41284 non-null  float64       \n",
            " 39  life_expectancy                  50448 non-null  float64       \n",
            " 40  human_development_index          44175 non-null  float64       \n",
            "dtypes: datetime64[ns](1), float64(36), object(4)\n",
            "memory usage: 16.1+ MB\n"
          ],
          "name": "stdout"
        }
      ]
    },
    {
      "cell_type": "code",
      "metadata": {
        "id": "aSaO1gdAhIQ-",
        "outputId": "3a7a684b-f0f8-40ea-d528-b5cf3e857e89",
        "colab": {
          "base_uri": "https://localhost:8080/",
          "height": 549
        }
      },
      "source": [
        "newTable = df.copy();\n",
        "newTable = newTable.sort_values(by=['total_cases'], ascending=False)\n",
        "sortedTable = newTable[newTable.iso_code != 'OWID_WRL']\n",
        "sortedTable.head(10)\n"
      ],
      "execution_count": 5,
      "outputs": [
        {
          "output_type": "execute_result",
          "data": {
            "text/html": [
              "<div>\n",
              "<style scoped>\n",
              "    .dataframe tbody tr th:only-of-type {\n",
              "        vertical-align: middle;\n",
              "    }\n",
              "\n",
              "    .dataframe tbody tr th {\n",
              "        vertical-align: top;\n",
              "    }\n",
              "\n",
              "    .dataframe thead th {\n",
              "        text-align: right;\n",
              "    }\n",
              "</style>\n",
              "<table border=\"1\" class=\"dataframe\">\n",
              "  <thead>\n",
              "    <tr style=\"text-align: right;\">\n",
              "      <th></th>\n",
              "      <th>iso_code</th>\n",
              "      <th>continent</th>\n",
              "      <th>location</th>\n",
              "      <th>date</th>\n",
              "      <th>total_cases</th>\n",
              "      <th>new_cases</th>\n",
              "      <th>new_cases_smoothed</th>\n",
              "      <th>total_deaths</th>\n",
              "      <th>new_deaths</th>\n",
              "      <th>new_deaths_smoothed</th>\n",
              "      <th>total_cases_per_million</th>\n",
              "      <th>new_cases_per_million</th>\n",
              "      <th>new_cases_smoothed_per_million</th>\n",
              "      <th>total_deaths_per_million</th>\n",
              "      <th>new_deaths_per_million</th>\n",
              "      <th>new_deaths_smoothed_per_million</th>\n",
              "      <th>total_tests</th>\n",
              "      <th>new_tests</th>\n",
              "      <th>total_tests_per_thousand</th>\n",
              "      <th>new_tests_per_thousand</th>\n",
              "      <th>new_tests_smoothed</th>\n",
              "      <th>new_tests_smoothed_per_thousand</th>\n",
              "      <th>tests_per_case</th>\n",
              "      <th>positive_rate</th>\n",
              "      <th>tests_units</th>\n",
              "      <th>stringency_index</th>\n",
              "      <th>population</th>\n",
              "      <th>population_density</th>\n",
              "      <th>median_age</th>\n",
              "      <th>aged_65_older</th>\n",
              "      <th>aged_70_older</th>\n",
              "      <th>gdp_per_capita</th>\n",
              "      <th>extreme_poverty</th>\n",
              "      <th>cardiovasc_death_rate</th>\n",
              "      <th>diabetes_prevalence</th>\n",
              "      <th>female_smokers</th>\n",
              "      <th>male_smokers</th>\n",
              "      <th>handwashing_facilities</th>\n",
              "      <th>hospital_beds_per_thousand</th>\n",
              "      <th>life_expectancy</th>\n",
              "      <th>human_development_index</th>\n",
              "    </tr>\n",
              "  </thead>\n",
              "  <tbody>\n",
              "    <tr>\n",
              "      <th>48682</th>\n",
              "      <td>USA</td>\n",
              "      <td>North America</td>\n",
              "      <td>United States</td>\n",
              "      <td>2020-10-23</td>\n",
              "      <td>8408340.0</td>\n",
              "      <td>72058.0</td>\n",
              "      <td>61207.857</td>\n",
              "      <td>223042.0</td>\n",
              "      <td>841.0</td>\n",
              "      <td>763.143</td>\n",
              "      <td>25402.637</td>\n",
              "      <td>217.696</td>\n",
              "      <td>184.917</td>\n",
              "      <td>673.838</td>\n",
              "      <td>2.541</td>\n",
              "      <td>2.306</td>\n",
              "      <td>NaN</td>\n",
              "      <td>NaN</td>\n",
              "      <td>NaN</td>\n",
              "      <td>NaN</td>\n",
              "      <td>NaN</td>\n",
              "      <td>NaN</td>\n",
              "      <td>NaN</td>\n",
              "      <td>NaN</td>\n",
              "      <td>NaN</td>\n",
              "      <td>NaN</td>\n",
              "      <td>331002647.0</td>\n",
              "      <td>35.608</td>\n",
              "      <td>38.3</td>\n",
              "      <td>15.413</td>\n",
              "      <td>9.732</td>\n",
              "      <td>54225.446</td>\n",
              "      <td>1.2</td>\n",
              "      <td>151.089</td>\n",
              "      <td>10.79</td>\n",
              "      <td>19.1</td>\n",
              "      <td>24.6</td>\n",
              "      <td>NaN</td>\n",
              "      <td>2.77</td>\n",
              "      <td>78.86</td>\n",
              "      <td>0.924</td>\n",
              "    </tr>\n",
              "    <tr>\n",
              "      <th>48681</th>\n",
              "      <td>USA</td>\n",
              "      <td>North America</td>\n",
              "      <td>United States</td>\n",
              "      <td>2020-10-22</td>\n",
              "      <td>8336282.0</td>\n",
              "      <td>62978.0</td>\n",
              "      <td>60026.000</td>\n",
              "      <td>222201.0</td>\n",
              "      <td>1135.0</td>\n",
              "      <td>761.286</td>\n",
              "      <td>25184.941</td>\n",
              "      <td>190.264</td>\n",
              "      <td>181.346</td>\n",
              "      <td>671.297</td>\n",
              "      <td>3.429</td>\n",
              "      <td>2.300</td>\n",
              "      <td>NaN</td>\n",
              "      <td>NaN</td>\n",
              "      <td>NaN</td>\n",
              "      <td>NaN</td>\n",
              "      <td>NaN</td>\n",
              "      <td>NaN</td>\n",
              "      <td>NaN</td>\n",
              "      <td>NaN</td>\n",
              "      <td>NaN</td>\n",
              "      <td>NaN</td>\n",
              "      <td>331002647.0</td>\n",
              "      <td>35.608</td>\n",
              "      <td>38.3</td>\n",
              "      <td>15.413</td>\n",
              "      <td>9.732</td>\n",
              "      <td>54225.446</td>\n",
              "      <td>1.2</td>\n",
              "      <td>151.089</td>\n",
              "      <td>10.79</td>\n",
              "      <td>19.1</td>\n",
              "      <td>24.6</td>\n",
              "      <td>NaN</td>\n",
              "      <td>2.77</td>\n",
              "      <td>78.86</td>\n",
              "      <td>0.924</td>\n",
              "    </tr>\n",
              "    <tr>\n",
              "      <th>48680</th>\n",
              "      <td>USA</td>\n",
              "      <td>North America</td>\n",
              "      <td>United States</td>\n",
              "      <td>2020-10-21</td>\n",
              "      <td>8273304.0</td>\n",
              "      <td>58549.0</td>\n",
              "      <td>59512.857</td>\n",
              "      <td>221066.0</td>\n",
              "      <td>933.0</td>\n",
              "      <td>737.714</td>\n",
              "      <td>24994.676</td>\n",
              "      <td>176.884</td>\n",
              "      <td>179.796</td>\n",
              "      <td>667.868</td>\n",
              "      <td>2.819</td>\n",
              "      <td>2.229</td>\n",
              "      <td>NaN</td>\n",
              "      <td>NaN</td>\n",
              "      <td>NaN</td>\n",
              "      <td>NaN</td>\n",
              "      <td>NaN</td>\n",
              "      <td>NaN</td>\n",
              "      <td>NaN</td>\n",
              "      <td>NaN</td>\n",
              "      <td>NaN</td>\n",
              "      <td>NaN</td>\n",
              "      <td>331002647.0</td>\n",
              "      <td>35.608</td>\n",
              "      <td>38.3</td>\n",
              "      <td>15.413</td>\n",
              "      <td>9.732</td>\n",
              "      <td>54225.446</td>\n",
              "      <td>1.2</td>\n",
              "      <td>151.089</td>\n",
              "      <td>10.79</td>\n",
              "      <td>19.1</td>\n",
              "      <td>24.6</td>\n",
              "      <td>NaN</td>\n",
              "      <td>2.77</td>\n",
              "      <td>78.86</td>\n",
              "      <td>0.924</td>\n",
              "    </tr>\n",
              "    <tr>\n",
              "      <th>48679</th>\n",
              "      <td>USA</td>\n",
              "      <td>North America</td>\n",
              "      <td>United States</td>\n",
              "      <td>2020-10-20</td>\n",
              "      <td>8214755.0</td>\n",
              "      <td>60160.0</td>\n",
              "      <td>58651.143</td>\n",
              "      <td>220133.0</td>\n",
              "      <td>459.0</td>\n",
              "      <td>721.143</td>\n",
              "      <td>24817.792</td>\n",
              "      <td>181.751</td>\n",
              "      <td>177.192</td>\n",
              "      <td>665.049</td>\n",
              "      <td>1.387</td>\n",
              "      <td>2.179</td>\n",
              "      <td>137574678.0</td>\n",
              "      <td>739349.0</td>\n",
              "      <td>415.630</td>\n",
              "      <td>2.234</td>\n",
              "      <td>916313.0</td>\n",
              "      <td>2.768</td>\n",
              "      <td>15.623</td>\n",
              "      <td>0.064</td>\n",
              "      <td>tests performed</td>\n",
              "      <td>NaN</td>\n",
              "      <td>331002647.0</td>\n",
              "      <td>35.608</td>\n",
              "      <td>38.3</td>\n",
              "      <td>15.413</td>\n",
              "      <td>9.732</td>\n",
              "      <td>54225.446</td>\n",
              "      <td>1.2</td>\n",
              "      <td>151.089</td>\n",
              "      <td>10.79</td>\n",
              "      <td>19.1</td>\n",
              "      <td>24.6</td>\n",
              "      <td>NaN</td>\n",
              "      <td>2.77</td>\n",
              "      <td>78.86</td>\n",
              "      <td>0.924</td>\n",
              "    </tr>\n",
              "    <tr>\n",
              "      <th>48678</th>\n",
              "      <td>USA</td>\n",
              "      <td>North America</td>\n",
              "      <td>United States</td>\n",
              "      <td>2020-10-19</td>\n",
              "      <td>8154595.0</td>\n",
              "      <td>47843.0</td>\n",
              "      <td>56007.286</td>\n",
              "      <td>219674.0</td>\n",
              "      <td>385.0</td>\n",
              "      <td>700.429</td>\n",
              "      <td>24636.042</td>\n",
              "      <td>144.540</td>\n",
              "      <td>169.205</td>\n",
              "      <td>663.662</td>\n",
              "      <td>1.163</td>\n",
              "      <td>2.116</td>\n",
              "      <td>136835329.0</td>\n",
              "      <td>640675.0</td>\n",
              "      <td>413.396</td>\n",
              "      <td>1.936</td>\n",
              "      <td>959676.0</td>\n",
              "      <td>2.899</td>\n",
              "      <td>17.135</td>\n",
              "      <td>0.058</td>\n",
              "      <td>tests performed</td>\n",
              "      <td>NaN</td>\n",
              "      <td>331002647.0</td>\n",
              "      <td>35.608</td>\n",
              "      <td>38.3</td>\n",
              "      <td>15.413</td>\n",
              "      <td>9.732</td>\n",
              "      <td>54225.446</td>\n",
              "      <td>1.2</td>\n",
              "      <td>151.089</td>\n",
              "      <td>10.79</td>\n",
              "      <td>19.1</td>\n",
              "      <td>24.6</td>\n",
              "      <td>NaN</td>\n",
              "      <td>2.77</td>\n",
              "      <td>78.86</td>\n",
              "      <td>0.924</td>\n",
              "    </tr>\n",
              "    <tr>\n",
              "      <th>48677</th>\n",
              "      <td>USA</td>\n",
              "      <td>North America</td>\n",
              "      <td>United States</td>\n",
              "      <td>2020-10-18</td>\n",
              "      <td>8106752.0</td>\n",
              "      <td>56611.0</td>\n",
              "      <td>55400.714</td>\n",
              "      <td>219289.0</td>\n",
              "      <td>690.0</td>\n",
              "      <td>701.714</td>\n",
              "      <td>24491.502</td>\n",
              "      <td>171.029</td>\n",
              "      <td>167.372</td>\n",
              "      <td>662.499</td>\n",
              "      <td>2.085</td>\n",
              "      <td>2.120</td>\n",
              "      <td>136194654.0</td>\n",
              "      <td>649710.0</td>\n",
              "      <td>411.461</td>\n",
              "      <td>1.963</td>\n",
              "      <td>987176.0</td>\n",
              "      <td>2.982</td>\n",
              "      <td>17.819</td>\n",
              "      <td>0.056</td>\n",
              "      <td>tests performed</td>\n",
              "      <td>NaN</td>\n",
              "      <td>331002647.0</td>\n",
              "      <td>35.608</td>\n",
              "      <td>38.3</td>\n",
              "      <td>15.413</td>\n",
              "      <td>9.732</td>\n",
              "      <td>54225.446</td>\n",
              "      <td>1.2</td>\n",
              "      <td>151.089</td>\n",
              "      <td>10.79</td>\n",
              "      <td>19.1</td>\n",
              "      <td>24.6</td>\n",
              "      <td>NaN</td>\n",
              "      <td>2.77</td>\n",
              "      <td>78.86</td>\n",
              "      <td>0.924</td>\n",
              "    </tr>\n",
              "    <tr>\n",
              "      <th>48676</th>\n",
              "      <td>USA</td>\n",
              "      <td>North America</td>\n",
              "      <td>United States</td>\n",
              "      <td>2020-10-17</td>\n",
              "      <td>8050141.0</td>\n",
              "      <td>70256.0</td>\n",
              "      <td>55066.429</td>\n",
              "      <td>218599.0</td>\n",
              "      <td>899.0</td>\n",
              "      <td>687.429</td>\n",
              "      <td>24320.473</td>\n",
              "      <td>212.252</td>\n",
              "      <td>166.363</td>\n",
              "      <td>660.415</td>\n",
              "      <td>2.716</td>\n",
              "      <td>2.077</td>\n",
              "      <td>135544944.0</td>\n",
              "      <td>908841.0</td>\n",
              "      <td>409.498</td>\n",
              "      <td>2.746</td>\n",
              "      <td>1006382.0</td>\n",
              "      <td>3.040</td>\n",
              "      <td>18.276</td>\n",
              "      <td>0.055</td>\n",
              "      <td>tests performed</td>\n",
              "      <td>NaN</td>\n",
              "      <td>331002647.0</td>\n",
              "      <td>35.608</td>\n",
              "      <td>38.3</td>\n",
              "      <td>15.413</td>\n",
              "      <td>9.732</td>\n",
              "      <td>54225.446</td>\n",
              "      <td>1.2</td>\n",
              "      <td>151.089</td>\n",
              "      <td>10.79</td>\n",
              "      <td>19.1</td>\n",
              "      <td>24.6</td>\n",
              "      <td>NaN</td>\n",
              "      <td>2.77</td>\n",
              "      <td>78.86</td>\n",
              "      <td>0.924</td>\n",
              "    </tr>\n",
              "    <tr>\n",
              "      <th>48675</th>\n",
              "      <td>USA</td>\n",
              "      <td>North America</td>\n",
              "      <td>United States</td>\n",
              "      <td>2020-10-16</td>\n",
              "      <td>7979885.0</td>\n",
              "      <td>63785.0</td>\n",
              "      <td>53327.286</td>\n",
              "      <td>217700.0</td>\n",
              "      <td>828.0</td>\n",
              "      <td>703.857</td>\n",
              "      <td>24108.221</td>\n",
              "      <td>192.702</td>\n",
              "      <td>161.108</td>\n",
              "      <td>657.699</td>\n",
              "      <td>2.501</td>\n",
              "      <td>2.126</td>\n",
              "      <td>134636103.0</td>\n",
              "      <td>1175236.0</td>\n",
              "      <td>406.752</td>\n",
              "      <td>3.551</td>\n",
              "      <td>1028884.0</td>\n",
              "      <td>3.108</td>\n",
              "      <td>19.294</td>\n",
              "      <td>0.052</td>\n",
              "      <td>tests performed</td>\n",
              "      <td>NaN</td>\n",
              "      <td>331002647.0</td>\n",
              "      <td>35.608</td>\n",
              "      <td>38.3</td>\n",
              "      <td>15.413</td>\n",
              "      <td>9.732</td>\n",
              "      <td>54225.446</td>\n",
              "      <td>1.2</td>\n",
              "      <td>151.089</td>\n",
              "      <td>10.79</td>\n",
              "      <td>19.1</td>\n",
              "      <td>24.6</td>\n",
              "      <td>NaN</td>\n",
              "      <td>2.77</td>\n",
              "      <td>78.86</td>\n",
              "      <td>0.924</td>\n",
              "    </tr>\n",
              "    <tr>\n",
              "      <th>48674</th>\n",
              "      <td>USA</td>\n",
              "      <td>North America</td>\n",
              "      <td>United States</td>\n",
              "      <td>2020-10-15</td>\n",
              "      <td>7916100.0</td>\n",
              "      <td>59386.0</td>\n",
              "      <td>52329.429</td>\n",
              "      <td>216872.0</td>\n",
              "      <td>970.0</td>\n",
              "      <td>724.429</td>\n",
              "      <td>23915.519</td>\n",
              "      <td>179.412</td>\n",
              "      <td>158.094</td>\n",
              "      <td>655.197</td>\n",
              "      <td>2.930</td>\n",
              "      <td>2.189</td>\n",
              "      <td>133460867.0</td>\n",
              "      <td>1157343.0</td>\n",
              "      <td>403.202</td>\n",
              "      <td>3.496</td>\n",
              "      <td>1049449.0</td>\n",
              "      <td>3.171</td>\n",
              "      <td>20.055</td>\n",
              "      <td>0.050</td>\n",
              "      <td>tests performed</td>\n",
              "      <td>NaN</td>\n",
              "      <td>331002647.0</td>\n",
              "      <td>35.608</td>\n",
              "      <td>38.3</td>\n",
              "      <td>15.413</td>\n",
              "      <td>9.732</td>\n",
              "      <td>54225.446</td>\n",
              "      <td>1.2</td>\n",
              "      <td>151.089</td>\n",
              "      <td>10.79</td>\n",
              "      <td>19.1</td>\n",
              "      <td>24.6</td>\n",
              "      <td>NaN</td>\n",
              "      <td>2.77</td>\n",
              "      <td>78.86</td>\n",
              "      <td>0.924</td>\n",
              "    </tr>\n",
              "    <tr>\n",
              "      <th>48673</th>\n",
              "      <td>USA</td>\n",
              "      <td>North America</td>\n",
              "      <td>United States</td>\n",
              "      <td>2020-10-14</td>\n",
              "      <td>7856714.0</td>\n",
              "      <td>52517.0</td>\n",
              "      <td>50728.857</td>\n",
              "      <td>215902.0</td>\n",
              "      <td>817.0</td>\n",
              "      <td>713.286</td>\n",
              "      <td>23736.106</td>\n",
              "      <td>158.660</td>\n",
              "      <td>153.258</td>\n",
              "      <td>652.267</td>\n",
              "      <td>2.468</td>\n",
              "      <td>2.155</td>\n",
              "      <td>132303524.0</td>\n",
              "      <td>1143037.0</td>\n",
              "      <td>399.705</td>\n",
              "      <td>3.453</td>\n",
              "      <td>1072245.0</td>\n",
              "      <td>3.239</td>\n",
              "      <td>21.137</td>\n",
              "      <td>0.047</td>\n",
              "      <td>tests performed</td>\n",
              "      <td>NaN</td>\n",
              "      <td>331002647.0</td>\n",
              "      <td>35.608</td>\n",
              "      <td>38.3</td>\n",
              "      <td>15.413</td>\n",
              "      <td>9.732</td>\n",
              "      <td>54225.446</td>\n",
              "      <td>1.2</td>\n",
              "      <td>151.089</td>\n",
              "      <td>10.79</td>\n",
              "      <td>19.1</td>\n",
              "      <td>24.6</td>\n",
              "      <td>NaN</td>\n",
              "      <td>2.77</td>\n",
              "      <td>78.86</td>\n",
              "      <td>0.924</td>\n",
              "    </tr>\n",
              "  </tbody>\n",
              "</table>\n",
              "</div>"
            ],
            "text/plain": [
              "      iso_code      continent  ... life_expectancy human_development_index\n",
              "48682      USA  North America  ...           78.86                   0.924\n",
              "48681      USA  North America  ...           78.86                   0.924\n",
              "48680      USA  North America  ...           78.86                   0.924\n",
              "48679      USA  North America  ...           78.86                   0.924\n",
              "48678      USA  North America  ...           78.86                   0.924\n",
              "48677      USA  North America  ...           78.86                   0.924\n",
              "48676      USA  North America  ...           78.86                   0.924\n",
              "48675      USA  North America  ...           78.86                   0.924\n",
              "48674      USA  North America  ...           78.86                   0.924\n",
              "48673      USA  North America  ...           78.86                   0.924\n",
              "\n",
              "[10 rows x 41 columns]"
            ]
          },
          "metadata": {
            "tags": []
          },
          "execution_count": 5
        }
      ]
    },
    {
      "cell_type": "markdown",
      "metadata": {
        "id": "qRuBl6s55yIh"
      },
      "source": [
        "## 1. Which county has the highest new cases ?"
      ]
    },
    {
      "cell_type": "markdown",
      "metadata": {
        "id": "H2KWgxkH8Kuh"
      },
      "source": [
        "In order to get the most infected country we do as follows:\n",
        "\n",
        "\n",
        "1.   Copy the whole table\n",
        "2.   Sort the new table by \"total_cases\", so this way we get the most infected countries at the top\n",
        "3.   Then we remove the \"OWID_WRL\", because we want a specific countrie and not the overall world\n",
        "4.   We take the first from the top.\n",
        "\n"
      ]
    },
    {
      "cell_type": "code",
      "metadata": {
        "id": "TlCrIfCf6tUv",
        "outputId": "1f173666-3fc8-4a76-c92f-34bf816dc564",
        "colab": {
          "base_uri": "https://localhost:8080/",
          "height": 117
        }
      },
      "source": [
        "newTable = df.copy();\n",
        "newTable = newTable.sort_values(by=['total_cases'], ascending=False)\n",
        "sortedTable = newTable[newTable.iso_code != 'OWID_WRL']\n",
        "sortedTable.head(1)"
      ],
      "execution_count": 7,
      "outputs": [
        {
          "output_type": "execute_result",
          "data": {
            "text/html": [
              "<div>\n",
              "<style scoped>\n",
              "    .dataframe tbody tr th:only-of-type {\n",
              "        vertical-align: middle;\n",
              "    }\n",
              "\n",
              "    .dataframe tbody tr th {\n",
              "        vertical-align: top;\n",
              "    }\n",
              "\n",
              "    .dataframe thead th {\n",
              "        text-align: right;\n",
              "    }\n",
              "</style>\n",
              "<table border=\"1\" class=\"dataframe\">\n",
              "  <thead>\n",
              "    <tr style=\"text-align: right;\">\n",
              "      <th></th>\n",
              "      <th>iso_code</th>\n",
              "      <th>continent</th>\n",
              "      <th>location</th>\n",
              "      <th>date</th>\n",
              "      <th>total_cases</th>\n",
              "      <th>new_cases</th>\n",
              "      <th>new_cases_smoothed</th>\n",
              "      <th>total_deaths</th>\n",
              "      <th>new_deaths</th>\n",
              "      <th>new_deaths_smoothed</th>\n",
              "      <th>total_cases_per_million</th>\n",
              "      <th>new_cases_per_million</th>\n",
              "      <th>new_cases_smoothed_per_million</th>\n",
              "      <th>total_deaths_per_million</th>\n",
              "      <th>new_deaths_per_million</th>\n",
              "      <th>new_deaths_smoothed_per_million</th>\n",
              "      <th>total_tests</th>\n",
              "      <th>new_tests</th>\n",
              "      <th>total_tests_per_thousand</th>\n",
              "      <th>new_tests_per_thousand</th>\n",
              "      <th>new_tests_smoothed</th>\n",
              "      <th>new_tests_smoothed_per_thousand</th>\n",
              "      <th>tests_per_case</th>\n",
              "      <th>positive_rate</th>\n",
              "      <th>tests_units</th>\n",
              "      <th>stringency_index</th>\n",
              "      <th>population</th>\n",
              "      <th>population_density</th>\n",
              "      <th>median_age</th>\n",
              "      <th>aged_65_older</th>\n",
              "      <th>aged_70_older</th>\n",
              "      <th>gdp_per_capita</th>\n",
              "      <th>extreme_poverty</th>\n",
              "      <th>cardiovasc_death_rate</th>\n",
              "      <th>diabetes_prevalence</th>\n",
              "      <th>female_smokers</th>\n",
              "      <th>male_smokers</th>\n",
              "      <th>handwashing_facilities</th>\n",
              "      <th>hospital_beds_per_thousand</th>\n",
              "      <th>life_expectancy</th>\n",
              "      <th>human_development_index</th>\n",
              "    </tr>\n",
              "  </thead>\n",
              "  <tbody>\n",
              "    <tr>\n",
              "      <th>48682</th>\n",
              "      <td>USA</td>\n",
              "      <td>North America</td>\n",
              "      <td>United States</td>\n",
              "      <td>2020-10-23</td>\n",
              "      <td>8408340.0</td>\n",
              "      <td>72058.0</td>\n",
              "      <td>61207.857</td>\n",
              "      <td>223042.0</td>\n",
              "      <td>841.0</td>\n",
              "      <td>763.143</td>\n",
              "      <td>25402.637</td>\n",
              "      <td>217.696</td>\n",
              "      <td>184.917</td>\n",
              "      <td>673.838</td>\n",
              "      <td>2.541</td>\n",
              "      <td>2.306</td>\n",
              "      <td>NaN</td>\n",
              "      <td>NaN</td>\n",
              "      <td>NaN</td>\n",
              "      <td>NaN</td>\n",
              "      <td>NaN</td>\n",
              "      <td>NaN</td>\n",
              "      <td>NaN</td>\n",
              "      <td>NaN</td>\n",
              "      <td>NaN</td>\n",
              "      <td>NaN</td>\n",
              "      <td>331002647.0</td>\n",
              "      <td>35.608</td>\n",
              "      <td>38.3</td>\n",
              "      <td>15.413</td>\n",
              "      <td>9.732</td>\n",
              "      <td>54225.446</td>\n",
              "      <td>1.2</td>\n",
              "      <td>151.089</td>\n",
              "      <td>10.79</td>\n",
              "      <td>19.1</td>\n",
              "      <td>24.6</td>\n",
              "      <td>NaN</td>\n",
              "      <td>2.77</td>\n",
              "      <td>78.86</td>\n",
              "      <td>0.924</td>\n",
              "    </tr>\n",
              "  </tbody>\n",
              "</table>\n",
              "</div>"
            ],
            "text/plain": [
              "      iso_code      continent  ... life_expectancy human_development_index\n",
              "48682      USA  North America  ...           78.86                   0.924\n",
              "\n",
              "[1 rows x 41 columns]"
            ]
          },
          "metadata": {
            "tags": []
          },
          "execution_count": 7
        }
      ]
    },
    {
      "cell_type": "markdown",
      "metadata": {
        "id": "0KTbheS99R_6"
      },
      "source": [
        "So as we can see, United States has the highest number in \"total_cases\"."
      ]
    },
    {
      "cell_type": "markdown",
      "metadata": {
        "id": "reNjoMKk7Rl2"
      },
      "source": [
        "##2. What is the correlation between people older than 65 and total deaths"
      ]
    },
    {
      "cell_type": "markdown",
      "metadata": {
        "id": "0SHnN2Ql5XKU"
      },
      "source": [
        "First of all, I copy the main table, then I remove rows where iso_code is \"OWID_WRL\", Then I take only the collums that I need ('iso_code', 'aged_65_older','total_deaths'). Then in order to get total numbers for each iso_code, I sum the rows, that way I get one row for each iso_code. Then I remove rows that are not relevent, sort the remaining table data by \"total_deaths\" and remove top 10, because the first 10 have extremely big numbers that can afect the correlation graph clarity."
      ]
    },
    {
      "cell_type": "code",
      "metadata": {
        "id": "99ug_8KG7jpq",
        "outputId": "c1461ac0-483b-4708-d739-6e3bdf914925",
        "colab": {
          "base_uri": "https://localhost:8080/",
          "height": 390
        }
      },
      "source": [
        "secondTaskTable = df.copy()\n",
        "secondTaskTable = secondTaskTable[secondTaskTable.iso_code != 'OWID_WRL']\n",
        "secondTaskTable = secondTaskTable[['iso_code', 'aged_65_older','total_deaths']]\n",
        "secondTaskTable = secondTaskTable.groupby(by=['iso_code']).sum()\n",
        "secondTaskTable = secondTaskTable.drop(secondTaskTable[secondTaskTable.aged_65_older <= 0].index)\n",
        "secondTaskTable = secondTaskTable.drop(secondTaskTable[secondTaskTable.total_deaths <= 0].index)\n",
        "secondTaskTable = secondTaskTable.sort_values(by=['total_deaths'], ascending=False)\n",
        "secondTaskTable.drop(secondTaskTable.index[:10], inplace=True)\n",
        "secondTaskTable.head(10)\n",
        "\n"
      ],
      "execution_count": 8,
      "outputs": [
        {
          "output_type": "execute_result",
          "data": {
            "text/html": [
              "<div>\n",
              "<style scoped>\n",
              "    .dataframe tbody tr th:only-of-type {\n",
              "        vertical-align: middle;\n",
              "    }\n",
              "\n",
              "    .dataframe tbody tr th {\n",
              "        vertical-align: top;\n",
              "    }\n",
              "\n",
              "    .dataframe thead th {\n",
              "        text-align: right;\n",
              "    }\n",
              "</style>\n",
              "<table border=\"1\" class=\"dataframe\">\n",
              "  <thead>\n",
              "    <tr style=\"text-align: right;\">\n",
              "      <th></th>\n",
              "      <th>aged_65_older</th>\n",
              "      <th>total_deaths</th>\n",
              "    </tr>\n",
              "    <tr>\n",
              "      <th>iso_code</th>\n",
              "      <th></th>\n",
              "      <th></th>\n",
              "    </tr>\n",
              "  </thead>\n",
              "  <tbody>\n",
              "    <tr>\n",
              "      <th>RUS</th>\n",
              "      <td>4225.044</td>\n",
              "      <td>2230766.0</td>\n",
              "    </tr>\n",
              "    <tr>\n",
              "      <th>COL</th>\n",
              "      <td>1781.518</td>\n",
              "      <td>2053608.0</td>\n",
              "    </tr>\n",
              "    <tr>\n",
              "      <th>BEL</th>\n",
              "      <td>5497.016</td>\n",
              "      <td>1829962.0</td>\n",
              "    </tr>\n",
              "    <tr>\n",
              "      <th>DEU</th>\n",
              "      <td>6392.994</td>\n",
              "      <td>1680261.0</td>\n",
              "    </tr>\n",
              "    <tr>\n",
              "      <th>CAN</th>\n",
              "      <td>5061.232</td>\n",
              "      <td>1494812.0</td>\n",
              "    </tr>\n",
              "    <tr>\n",
              "      <th>ZAF</th>\n",
              "      <td>1389.440</td>\n",
              "      <td>1432414.0</td>\n",
              "    </tr>\n",
              "    <tr>\n",
              "      <th>CHL</th>\n",
              "      <td>2583.271</td>\n",
              "      <td>1338769.0</td>\n",
              "    </tr>\n",
              "    <tr>\n",
              "      <th>ARG</th>\n",
              "      <td>2609.134</td>\n",
              "      <td>1186718.0</td>\n",
              "    </tr>\n",
              "    <tr>\n",
              "      <th>NLD</th>\n",
              "      <td>5596.142</td>\n",
              "      <td>1169745.0</td>\n",
              "    </tr>\n",
              "    <tr>\n",
              "      <th>ECU</th>\n",
              "      <td>2116.992</td>\n",
              "      <td>1133501.0</td>\n",
              "    </tr>\n",
              "  </tbody>\n",
              "</table>\n",
              "</div>"
            ],
            "text/plain": [
              "          aged_65_older  total_deaths\n",
              "iso_code                             \n",
              "RUS            4225.044     2230766.0\n",
              "COL            1781.518     2053608.0\n",
              "BEL            5497.016     1829962.0\n",
              "DEU            6392.994     1680261.0\n",
              "CAN            5061.232     1494812.0\n",
              "ZAF            1389.440     1432414.0\n",
              "CHL            2583.271     1338769.0\n",
              "ARG            2609.134     1186718.0\n",
              "NLD            5596.142     1169745.0\n",
              "ECU            2116.992     1133501.0"
            ]
          },
          "metadata": {
            "tags": []
          },
          "execution_count": 8
        }
      ]
    },
    {
      "cell_type": "markdown",
      "metadata": {
        "id": "wZ-3jN-r5N02"
      },
      "source": [
        "Then I save column data to different lists."
      ]
    },
    {
      "cell_type": "code",
      "metadata": {
        "id": "-pXsIKCRJv_t"
      },
      "source": [
        "xxx = secondTaskTable.aged_65_older\n",
        "yyy = secondTaskTable.total_deaths\n",
        "#xxx = xxx.drop(yyy[yyy <= 1000].index)\n",
        "#yyy = yyy.drop(yyy[yyy <= 1000].index)"
      ],
      "execution_count": 27,
      "outputs": []
    },
    {
      "cell_type": "markdown",
      "metadata": {
        "id": "IHrr7RUG8iGH"
      },
      "source": [
        "Setup the figure, plot the xxx and yyy values, and I fit the linear function and then plot the data."
      ]
    },
    {
      "cell_type": "code",
      "metadata": {
        "id": "OpPURBZR7hX6",
        "outputId": "20906302-3b3a-4c6e-8c5a-db71537c31ce",
        "colab": {
          "base_uri": "https://localhost:8080/",
          "height": 633
        }
      },
      "source": [
        "plt.figure(figsize=(10,10))\n",
        "plt.xlabel('People aged 65 or older')\n",
        "plt.ylabel('Total deaths')\n",
        "plt.plot(xxx, yyy, '.')\n",
        "\n",
        "w1, w0 = ma.polyfit(ma.masked_invalid(xxx), ma.masked_invalid(yyy), 1)\n",
        "x_all = np.linspace(xxx.min(), xxx.max(), len(xxx))\n",
        "#x_all = np.linspace(xxx.min(), 100000, len(xxx))\n",
        "plt.plot(x_all, w0 + w1 * x_all, '-')\n",
        "\n"
      ],
      "execution_count": 28,
      "outputs": [
        {
          "output_type": "execute_result",
          "data": {
            "text/plain": [
              "[<matplotlib.lines.Line2D at 0x7f7da19da588>]"
            ]
          },
          "metadata": {
            "tags": []
          },
          "execution_count": 28
        },
        {
          "output_type": "display_data",
          "data": {
            "image/png": "[encoded data removed]",
            "text/plain": [
              "<Figure size 720x720 with 1 Axes>"
            ]
          },
          "metadata": {
            "tags": [],
            "needs_background": "light"
          }
        }
      ]
    },
    {
      "cell_type": "code",
      "metadata": {
        "id": "QqYrWH6QVWSk",
        "outputId": "5ff6a2ab-3d70-4784-ee58-0bf00e774d48",
        "colab": {
          "base_uri": "https://localhost:8080/",
          "height": 34
        }
      },
      "source": [
        "ma.corrcoef(ma.masked_invalid(xxx), ma.masked_invalid(yyy))[0,1]"
      ],
      "execution_count": 29,
      "outputs": [
        {
          "output_type": "execute_result",
          "data": {
            "text/plain": [
              "0.24716027267510504"
            ]
          },
          "metadata": {
            "tags": []
          },
          "execution_count": 29
        }
      ]
    },
    {
      "cell_type": "markdown",
      "metadata": {
        "id": "rswW-6G4Lczc"
      },
      "source": [
        "As we can see, the correlation coefficient is around 0.25, so there is some correlation but its not super big. In most cases the number of deaths increases steadily, and in some it increases exponentially. So to sum up, I would say that the correlation is weak."
      ]
    },
    {
      "cell_type": "markdown",
      "metadata": {
        "id": "LoSdBfim7Sqn"
      },
      "source": [
        "##3. Can we predict which county will have the highest covid cases ?"
      ]
    },
    {
      "cell_type": "markdown",
      "metadata": {
        "id": "0cwdkPio-nl2"
      },
      "source": [
        "Importing modules that will be used for this problem"
      ]
    },
    {
      "cell_type": "code",
      "metadata": {
        "id": "cFwcnACtaD7h"
      },
      "source": [
        "import pandas as pd\n",
        "import numpy as np\n",
        "from sklearn.svm import SVR\n"
      ],
      "execution_count": 52,
      "outputs": []
    },
    {
      "cell_type": "markdown",
      "metadata": {
        "id": "W0sdQbkR-_kw"
      },
      "source": [
        "Copy the main table, filter the table to that only the USA be left and dropping the values that are not a number (NaN)."
      ]
    },
    {
      "cell_type": "code",
      "metadata": {
        "id": "bluGn-zBajQK"
      },
      "source": [
        "thirdTaskTable = df\n",
        "thirdTaskTable = thirdTaskTable.loc[thirdTaskTable['iso_code']=='USA']\n",
        "thirdTaskTable = thirdTaskTable.drop(thirdTaskTable[np.isnan(thirdTaskTable.total_cases)].index)\n"
      ],
      "execution_count": 53,
      "outputs": []
    },
    {
      "cell_type": "markdown",
      "metadata": {
        "id": "G4sdK_f7_i5g"
      },
      "source": [
        "Then saving total cases values to y list and for x, we create a list that goes from 0 to the length of y list."
      ]
    },
    {
      "cell_type": "code",
      "metadata": {
        "id": "-JJattlF_hlr"
      },
      "source": [
        "y = thirdTaskTable.total_cases\n",
        "x = list(range(0, len(y)))"
      ],
      "execution_count": 54,
      "outputs": []
    },
    {
      "cell_type": "markdown",
      "metadata": {
        "id": "AxoXoldxAAdm"
      },
      "source": [
        "Tehen we have to create a vectorized list out of x list. So we create new array and append all the valies as vectors."
      ]
    },
    {
      "cell_type": "code",
      "metadata": {
        "id": "6TwKvbYOcafc",
        "outputId": "ff49ebc3-e8f1-4ffa-a0bb-e82f04ae4b67",
        "colab": {
          "base_uri": "https://localhost:8080/",
          "height": 221
        }
      },
      "source": [
        "x_values = []\n",
        "for i in range(0, len(x)):\n",
        "  x_values.append([x[i]])\n",
        "\n",
        "y\n"
      ],
      "execution_count": 55,
      "outputs": [
        {
          "output_type": "execute_result",
          "data": {
            "text/plain": [
              "48406          1.0\n",
              "48407          1.0\n",
              "48408          1.0\n",
              "48409          1.0\n",
              "48410          2.0\n",
              "           ...    \n",
              "48678    8154595.0\n",
              "48679    8214755.0\n",
              "48680    8273304.0\n",
              "48681    8336282.0\n",
              "48682    8408340.0\n",
              "Name: total_cases, Length: 277, dtype: float64"
            ]
          },
          "metadata": {
            "tags": []
          },
          "execution_count": 55
        }
      ]
    },
    {
      "cell_type": "markdown",
      "metadata": {
        "id": "4JhF_4kMAxPl"
      },
      "source": [
        "Then we create linear and poly models."
      ]
    },
    {
      "cell_type": "code",
      "metadata": {
        "id": "ou-r0jE4own9"
      },
      "source": [
        "linearModel = SVR(kernel='linear', C=1000, gamma=0.1)"
      ],
      "execution_count": 56,
      "outputs": []
    },
    {
      "cell_type": "code",
      "metadata": {
        "id": "KaJ3600VrdT6"
      },
      "source": [
        "polyModel = SVR(kernel='poly', C=10, gamma=0.1, epsilon=0.1, coef0 = 1, degree=3)"
      ],
      "execution_count": 40,
      "outputs": []
    },
    {
      "cell_type": "markdown",
      "metadata": {
        "id": "OkZcZAcBBA-n"
      },
      "source": [
        "And fit the values on created models"
      ]
    },
    {
      "cell_type": "code",
      "metadata": {
        "id": "nFx2mcESgTZZ",
        "outputId": "20cc9a6b-61a0-487f-cc4f-fb2ceb609791",
        "colab": {
          "base_uri": "https://localhost:8080/",
          "height": 51
        }
      },
      "source": [
        "linearModel.fit(x_values, y)"
      ],
      "execution_count": 57,
      "outputs": [
        {
          "output_type": "execute_result",
          "data": {
            "text/plain": [
              "SVR(C=1000, cache_size=200, coef0=0.0, degree=3, epsilon=0.1, gamma=0.1,\n",
              "    kernel='linear', max_iter=-1, shrinking=True, tol=0.001, verbose=False)"
            ]
          },
          "metadata": {
            "tags": []
          },
          "execution_count": 57
        }
      ]
    },
    {
      "cell_type": "code",
      "metadata": {
        "id": "R7RpOIUMBJk-",
        "outputId": "4ecabef5-8256-4260-a586-8e7fef567e0d",
        "colab": {
          "base_uri": "https://localhost:8080/",
          "height": 51
        }
      },
      "source": [
        "polyModel.fit(x_values, y)"
      ],
      "execution_count": 42,
      "outputs": [
        {
          "output_type": "execute_result",
          "data": {
            "text/plain": [
              "SVR(C=10, cache_size=200, coef0=1, degree=3, epsilon=0.1, gamma=0.1,\n",
              "    kernel='poly', max_iter=-1, shrinking=True, tol=0.001, verbose=False)"
            ]
          },
          "metadata": {
            "tags": []
          },
          "execution_count": 42
        }
      ]
    },
    {
      "cell_type": "markdown",
      "metadata": {
        "id": "EWaLUKV8FRQe"
      },
      "source": [
        "Predicting values using linear model"
      ]
    },
    {
      "cell_type": "code",
      "metadata": {
        "id": "K9M6OuL5hJuS"
      },
      "source": [
        "linearModel_predicted_x = []\n",
        "linearModel_predicted_y = []\n",
        "predicted_value = 0\n",
        "for i in range(0, max(x)+100):\n",
        "  predicted_value = linearModel.predict([[i]])\n",
        "  if predicted_value > 0:\n",
        "    linearModel_predicted_y.append(predicted_value)\n",
        "    linearModel_predicted_x.append(i)"
      ],
      "execution_count": 61,
      "outputs": []
    },
    {
      "cell_type": "code",
      "metadata": {
        "id": "BXhV7pPmpPjZ",
        "outputId": "919c09e6-f679-47ac-d308-a2519b1d2204",
        "colab": {
          "base_uri": "https://localhost:8080/",
          "height": 310
        }
      },
      "source": [
        "#predicted_y\n",
        "\n",
        "plt.plot(x, y, linearModel_predicted_x, linearModel_predicted_y, '-')"
      ],
      "execution_count": 62,
      "outputs": [
        {
          "output_type": "execute_result",
          "data": {
            "text/plain": [
              "[<matplotlib.lines.Line2D at 0x7f7d92c6b048>,\n",
              " <matplotlib.lines.Line2D at 0x7f7d92c6b198>]"
            ]
          },
          "metadata": {
            "tags": []
          },
          "execution_count": 62
        },
        {
          "output_type": "display_data",
          "data": {
            "image/png": "[encoded data removed]",
            "text/plain": [
              "<Figure size 432x288 with 1 Axes>"
            ]
          },
          "metadata": {
            "tags": [],
            "needs_background": "light"
          }
        }
      ]
    },
    {
      "cell_type": "markdown",
      "metadata": {
        "id": "80L4J2VkFZRc"
      },
      "source": [
        "Predicting values using Poly model"
      ]
    },
    {
      "cell_type": "code",
      "metadata": {
        "id": "rc4y5EsaFcRa"
      },
      "source": [
        "polyModel_predicted_x = []\n",
        "polyModel_predicted_y = []\n",
        "predicted_value = 0\n",
        "for i in range(0, max(x)+100):\n",
        "  predicted_value = polyModel.predict([[i]])\n",
        "  if predicted_value > 0:\n",
        "    polyModel_predicted_y.append(predicted_value)\n",
        "    polyModel_predicted_x.append(i)"
      ],
      "execution_count": 63,
      "outputs": []
    },
    {
      "cell_type": "code",
      "metadata": {
        "id": "aHtZognnFmJz",
        "outputId": "99820452-f302-4863-a553-2858501c723d",
        "colab": {
          "base_uri": "https://localhost:8080/",
          "height": 310
        }
      },
      "source": [
        "predicted_y\n",
        "\n",
        "plt.plot(x, y, polyModel_predicted_x, polyModel_predicted_y, '-')"
      ],
      "execution_count": 65,
      "outputs": [
        {
          "output_type": "execute_result",
          "data": {
            "text/plain": [
              "[<matplotlib.lines.Line2D at 0x7f7d92bafbe0>,\n",
              " <matplotlib.lines.Line2D at 0x7f7d92bafd30>]"
            ]
          },
          "metadata": {
            "tags": []
          },
          "execution_count": 65
        },
        {
          "output_type": "display_data",
          "data": {
            "image/png": "[encoded data removed]",
            "text/plain": [
              "<Figure size 432x288 with 1 Axes>"
            ]
          },
          "metadata": {
            "tags": [],
            "needs_background": "light"
          }
        }
      ]
    }
  ]
}